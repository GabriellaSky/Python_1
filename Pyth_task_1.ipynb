{
 "cells": [
  {
   "cell_type": "markdown",
   "metadata": {},
   "source": [
    "## 1.1"
   ]
  },
  {
   "cell_type": "markdown",
   "metadata": {},
   "source": [
    "tuple – используется для представления неизменяемой последовательности разнородных объектов.\n",
    "Списки в Python - упорядоченные изменяемые коллекции объектов произвольных типов (почти как массив, но типы могут отличаться).\n",
    "Список может содержать любое количество любых объектов (в том числе и вложенные списки), или не содержать ничего.\n",
    "Ключами словаря могут быть значения только hashable типов, то есть типов, у которых может быть получен хэш (для этого у них должен быть метод __hash__()).\n",
    "\n",
    "Получается, что список не может быть ключём в словаре.\n",
    "\n",
    "Словарь в Python реализован в виде хэш-таблицы. \n",
    "Для разрешения коллизий в Python используется метод открытой адресации. \n",
    "Разработчики предпочли метод открытой адресации методу цепочек ввиду того, что он позволяет значительно сэкономить память на хранении указателей, которые используются в хэш-таблицах с цепочками. \n",
    "\n",
    "Работа с tuple быстрее, чем со списками. \n",
    "\n",
    "range() создает список, содержащий арифметическую прогрессию.\n",
    "Если нужно перебирать числа большого диапазона, создание списка будет неоправданно, а в некоторых случаях просто не хватит памяти:\n",
    "range() выделяет память и создаёт список\n",
    "xrange() возвращает xrange объект (простой итератор) при этом мамять юзается только под объект и по ходу обращения к нему - возвращается определённое значение.\n",
    "\n",
    "Генератор списков - способ построить новый список, применяя выражение к каждому элементу последовательности. \n",
    "Генераторы списков очень похожи на цикл for. \n",
    "Таким образом, генераторы списков позволяют создавать списки легче и быстрее. \n",
    "Однако заменить ими достаточно сложные конструкции не получится. \n",
    "Например, когда условие проверки должно включать ветку else.\n",
    "\n",
    "map() применяет переданную функцию к каждому элементу в переданном списке (списках) и возвращает список результатов (той же размерности, что и входной);\n",
    "reduce() применяет переданную функцию к каждому значению в списке и ко внутреннему накопителю, \n",
    "например,reduce( lambda n,m: n * m, range( 1, 10 ) ) означает 10! (факториал);\n",
    "можете передать несколько списков, тогда функция (идущая первым параметром) \n",
    "должна принимать несколько аргументов (по количеству списков переданных в map).\n"
   ]
  },
  {
   "cell_type": "code",
   "execution_count": 1,
   "metadata": {
    "collapsed": false
   },
   "outputs": [
    {
     "data": {
      "text/plain": [
       "720"
      ]
     },
     "execution_count": 1,
     "metadata": {},
     "output_type": "execute_result"
    }
   ],
   "source": [
    "import sys\n",
    "\n",
    "reduce( lambda n,m: n * m, range( 1, 10 ) )\n",
    "numbers = [2, 3, 4, 5, 6]\n",
    "reduce(lambda res, x: res*x, numbers, 1) "
   ]
  },
  {
   "cell_type": "markdown",
   "metadata": {
    "collapsed": true
   },
   "source": [
    "Вычисления происходят в следующем порядке:\n",
    "((((1*2)*3)*4)*5)*6 \n",
    "Цепочка вызовов связывается с помощью промежуточного результата (res). Если список пустой, просто используется третий параметр (в случае произведения нуля множителей это 1):"
   ]
  },
  {
   "cell_type": "code",
   "execution_count": 2,
   "metadata": {
    "collapsed": false
   },
   "outputs": [
    {
     "data": {
      "text/plain": [
       "1"
      ]
     },
     "execution_count": 2,
     "metadata": {},
     "output_type": "execute_result"
    }
   ],
   "source": [
    "reduce(lambda res, x: res*x, [], 1) "
   ]
  },
  {
   "cell_type": "markdown",
   "metadata": {},
   "source": [
    "Разумеется, промежуточный результат необязательно число. \n",
    "Это может быть любой другой тип данных, в том числе и список. \n",
    "Следующий пример показывает реверс списка:"
   ]
  },
  {
   "cell_type": "code",
   "execution_count": 3,
   "metadata": {
    "collapsed": false
   },
   "outputs": [
    {
     "data": {
      "text/plain": [
       "[4, 3, 2, 1]"
      ]
     },
     "execution_count": 3,
     "metadata": {},
     "output_type": "execute_result"
    }
   ],
   "source": [
    "reduce(lambda res, x: [x]+res, [1, 2, 3, 4], []) "
   ]
  },
  {
   "cell_type": "markdown",
   "metadata": {},
   "source": [
    "# 1.2"
   ]
  },
  {
   "cell_type": "code",
   "execution_count": 4,
   "metadata": {
    "collapsed": true
   },
   "outputs": [],
   "source": [
    "def fibi(n):\n",
    "    '''inefficient recursive function as defined, returns Fibonacci number'''\n",
    "    if n > 1:\n",
    "        return fibi(n-1) + fibi(n-2)\n",
    "    return n"
   ]
  },
  {
   "cell_type": "code",
   "execution_count": 5,
   "metadata": {
    "collapsed": false
   },
   "outputs": [
    {
     "data": {
      "text/plain": [
       "1000"
      ]
     },
     "execution_count": 5,
     "metadata": {},
     "output_type": "execute_result"
    }
   ],
   "source": [
    "sys.getrecursionlimit()"
   ]
  },
  {
   "cell_type": "code",
   "execution_count": 6,
   "metadata": {
    "collapsed": false
   },
   "outputs": [
    {
     "ename": "RuntimeError",
     "evalue": "maximum recursion depth exceeded",
     "output_type": "error",
     "traceback": [
      "\u001b[0;31m---------------------------------------------------------------------------\u001b[0m",
      "\u001b[0;31mRuntimeError\u001b[0m                              Traceback (most recent call last)",
      "\u001b[0;32m<ipython-input-6-7c12e0b4d1cc>\u001b[0m in \u001b[0;36m<module>\u001b[0;34m()\u001b[0m\n\u001b[0;32m----> 1\u001b[0;31m \u001b[0mfibi\u001b[0m\u001b[0;34m(\u001b[0m\u001b[0;36m977\u001b[0m\u001b[0;34m)\u001b[0m\u001b[0;34m\u001b[0m\u001b[0m\n\u001b[0m",
      "\u001b[0;32m<ipython-input-4-b1f0f480c9cf>\u001b[0m in \u001b[0;36mfibi\u001b[0;34m(n)\u001b[0m\n\u001b[1;32m      2\u001b[0m     \u001b[0;34m'''inefficient recursive function as defined, returns Fibonacci number'''\u001b[0m\u001b[0;34m\u001b[0m\u001b[0m\n\u001b[1;32m      3\u001b[0m     \u001b[0;32mif\u001b[0m \u001b[0mn\u001b[0m \u001b[0;34m>\u001b[0m \u001b[0;36m1\u001b[0m\u001b[0;34m:\u001b[0m\u001b[0;34m\u001b[0m\u001b[0m\n\u001b[0;32m----> 4\u001b[0;31m         \u001b[0;32mreturn\u001b[0m \u001b[0mfibi\u001b[0m\u001b[0;34m(\u001b[0m\u001b[0mn\u001b[0m\u001b[0;34m-\u001b[0m\u001b[0;36m1\u001b[0m\u001b[0;34m)\u001b[0m \u001b[0;34m+\u001b[0m \u001b[0mfibi\u001b[0m\u001b[0;34m(\u001b[0m\u001b[0mn\u001b[0m\u001b[0;34m-\u001b[0m\u001b[0;36m2\u001b[0m\u001b[0;34m)\u001b[0m\u001b[0;34m\u001b[0m\u001b[0m\n\u001b[0m\u001b[1;32m      5\u001b[0m     \u001b[0;32mreturn\u001b[0m \u001b[0mn\u001b[0m\u001b[0;34m\u001b[0m\u001b[0m\n",
      "... last 1 frames repeated, from the frame below ...\n",
      "\u001b[0;32m<ipython-input-4-b1f0f480c9cf>\u001b[0m in \u001b[0;36mfibi\u001b[0;34m(n)\u001b[0m\n\u001b[1;32m      2\u001b[0m     \u001b[0;34m'''inefficient recursive function as defined, returns Fibonacci number'''\u001b[0m\u001b[0;34m\u001b[0m\u001b[0m\n\u001b[1;32m      3\u001b[0m     \u001b[0;32mif\u001b[0m \u001b[0mn\u001b[0m \u001b[0;34m>\u001b[0m \u001b[0;36m1\u001b[0m\u001b[0;34m:\u001b[0m\u001b[0;34m\u001b[0m\u001b[0m\n\u001b[0;32m----> 4\u001b[0;31m         \u001b[0;32mreturn\u001b[0m \u001b[0mfibi\u001b[0m\u001b[0;34m(\u001b[0m\u001b[0mn\u001b[0m\u001b[0;34m-\u001b[0m\u001b[0;36m1\u001b[0m\u001b[0;34m)\u001b[0m \u001b[0;34m+\u001b[0m \u001b[0mfibi\u001b[0m\u001b[0;34m(\u001b[0m\u001b[0mn\u001b[0m\u001b[0;34m-\u001b[0m\u001b[0;36m2\u001b[0m\u001b[0;34m)\u001b[0m\u001b[0;34m\u001b[0m\u001b[0m\n\u001b[0m\u001b[1;32m      5\u001b[0m     \u001b[0;32mreturn\u001b[0m \u001b[0mn\u001b[0m\u001b[0;34m\u001b[0m\u001b[0m\n",
      "\u001b[0;31mRuntimeError\u001b[0m: maximum recursion depth exceeded"
     ]
    }
   ],
   "source": [
    "fibi(977)"
   ]
  },
  {
   "cell_type": "markdown",
   "metadata": {},
   "source": [
    "при 977 достигается предел"
   ]
  },
  {
   "cell_type": "markdown",
   "metadata": {},
   "source": [
    "# 1.3"
   ]
  },
  {
   "cell_type": "code",
   "execution_count": 7,
   "metadata": {
    "collapsed": true
   },
   "outputs": [],
   "source": [
    "from timeit import Timer"
   ]
  },
  {
   "cell_type": "code",
   "execution_count": 8,
   "metadata": {
    "collapsed": false
   },
   "outputs": [
    {
     "name": "stdout",
     "output_type": "stream",
     "text": [
      "n= 1, fib: 0.000004\n",
      "n= 2, fib: 0.000006\n",
      "n= 3, fib: 0.000014\n",
      "n= 4, fib: 0.000017\n",
      "n= 5, fib: 0.000136\n",
      "n= 6, fib: 0.000296\n",
      "n= 7, fib: 0.000093\n",
      "n= 8, fib: 0.000587\n",
      "n= 9, fib: 0.000190\n",
      "n=10, fib: 0.000249\n",
      "n=11, fib: 0.000523\n",
      "n=12, fib: 0.000844\n",
      "n=13, fib: 0.001274\n",
      "n=14, fib: 0.001328\n",
      "n=15, fib: 0.003418\n",
      "n=16, fib: 0.002321\n",
      "n=17, fib: 0.003798\n",
      "n=18, fib: 0.006224\n",
      "n=19, fib: 0.015205\n"
     ]
    }
   ],
   "source": [
    "t1 = Timer(\"fibi(10)\",\"from __main__ import fibi\")\n",
    "\n",
    "for i in range(1,20):\n",
    "    s = \"fibi(\" + str(i) + \")\"\n",
    "    t1 = Timer(s,\"from __main__ import fibi\")\n",
    "    time1 = t1.timeit(3)\n",
    "    print(\"n=%2d, fib: %8.6f\" % (i, time1))"
   ]
  },
  {
   "cell_type": "markdown",
   "metadata": {},
   "source": [
    "# 1.4"
   ]
  },
  {
   "cell_type": "code",
   "execution_count": 9,
   "metadata": {
    "collapsed": false
   },
   "outputs": [
    {
     "name": "stdout",
     "output_type": "stream",
     "text": [
      "(4.47213595499958, 1.1071487177940904)\n"
     ]
    }
   ],
   "source": [
    "from math import atan2\n",
    "\n",
    "def mod_arg(a,b):\n",
    "    v = complex(a, b)\n",
    "    arg = atan2(v.imag, v.real)\n",
    "    module = abs(v)\n",
    "    return  (module, arg)\n",
    "\n",
    "result = mod_arg(2,4)\n",
    "print result"
   ]
  },
  {
   "cell_type": "code",
   "execution_count": 10,
   "metadata": {
    "collapsed": false
   },
   "outputs": [
    {
     "data": {
      "text/plain": [
       "tuple"
      ]
     },
     "execution_count": 10,
     "metadata": {},
     "output_type": "execute_result"
    }
   ],
   "source": [
    "type(result)"
   ]
  },
  {
   "cell_type": "markdown",
   "metadata": {},
   "source": [
    "# 1.5"
   ]
  },
  {
   "cell_type": "code",
   "execution_count": 11,
   "metadata": {
    "collapsed": false
   },
   "outputs": [
    {
     "name": "stdout",
     "output_type": "stream",
     "text": [
      "Exception reporting mode: Plain\n",
      "Doctest mode is: ON\n",
      "Trying:\n",
      "    mod_arg(3,4)\n",
      "Expecting:\n",
      "    (4.0, 0.9272952180016122)\n",
      "**********************************************************************\n",
      "File \"__main__\", line 4, in __main__\n",
      "Failed example:\n",
      "    mod_arg(3,4)\n",
      "Expected:\n",
      "    (4.0, 0.9272952180016122)\n",
      "Got:\n",
      "    (5.0, 0.9272952180016122)\n",
      "Trying:\n",
      "    mod_arg(2,4)\n",
      "Expecting:\n",
      "    (4.47213595499958, 1.1071487177940904)\n",
      "ok\n",
      "2 items had no tests:\n",
      "    __main__.fibi\n",
      "    __main__.mod_arg\n",
      "**********************************************************************\n",
      "1 items had failures:\n",
      "   1 of   2 in __main__\n",
      "2 tests in 3 items.\n",
      "1 passed and 1 failed.\n",
      "***Test Failed*** 1 failures.\n"
     ]
    }
   ],
   "source": [
    "%doctest_mode \n",
    "#import doctest\n",
    "\"\"\"Examples:\n",
    "Example with error\n",
    ">>> mod_arg(3,4)\n",
    "(4.0, 0.9272952180016122)\n",
    "\n",
    "Correct example\n",
    ">>> mod_arg(2,4)\n",
    "(4.47213595499958, 1.1071487177940904)\n",
    "\"\"\"\n",
    "\n",
    "def mod_arg(a,b):\n",
    "    \"\"\"mod_arg - returns module and arg\"\"\"\n",
    "    v = complex(a, b)\n",
    "    arg = atan2(v.imag, v.real)\n",
    "    module = abs(v)\n",
    "    return  (module, arg)\n",
    "\n",
    "if __name__ == \"__main__\":\n",
    "    import doctest\n",
    "    doctest.testmod(verbose = True)\n",
    "    "
   ]
  },
  {
   "cell_type": "markdown",
   "metadata": {},
   "source": [
    "# 1.6"
   ]
  },
  {
   "cell_type": "code",
   "execution_count": 12,
   "metadata": {
    "collapsed": true
   },
   "outputs": [],
   "source": [
    "class Complx():\n",
    "    def __init__(self, real, imag=0.0):\n",
    "        self.real = real\n",
    "        self.imag = imag\n",
    "\n",
    "    def __add__(self, other):\n",
    "        return Complx(self.real + other.real,\n",
    "                       self.imag + other.imag)\n",
    "\n",
    "    def __sub__(self, other):\n",
    "        return Complx(self.real - other.real,\n",
    "                       self.imag - other.imag)\n",
    "\n",
    "    def __mul__(self, other):\n",
    "        return Complx(self.real*other.real - self.imag*other.imag,\n",
    "                       self.imag*other.real + self.real*other.imag)\n",
    "\n",
    "    def __div__(self, other):\n",
    "        sr, si, otr, oti = self.real, self.imag, \\\n",
    "                         other.real, other.imag # short forms\n",
    "        r = float(otr**2 + oti**2)\n",
    "        return Complx((sr*otr+si*oti)/r, (si*otr-sr*oti)/r)\n",
    "\n",
    "    def __abs__(self):\n",
    "        return sqrt(self.real**2 + self.imag**2)\n",
    "    def __str__(self):\n",
    "        return '(%g, %g)' % (self.real, self.imag)\n",
    "    def __repr__(self):\n",
    "        return 'Complex' + str(self)"
   ]
  },
  {
   "cell_type": "code",
   "execution_count": 13,
   "metadata": {
    "collapsed": false
   },
   "outputs": [
    {
     "name": "stdout",
     "output_type": "stream",
     "text": [
      "(3, 7) (1, -1) (-10, 11) (0.823529, -0.294118)\n"
     ]
    }
   ],
   "source": [
    "a = Complx(2,3)\n",
    "b = Complx(1,4)\n",
    "sum = a+b\n",
    "sub = a-b\n",
    "mul = a*b\n",
    "div = a/b\n",
    "print sum,sub,mul,div"
   ]
  },
  {
   "cell_type": "markdown",
   "metadata": {},
   "source": [
    "# 1.7"
   ]
  },
  {
   "cell_type": "code",
   "execution_count": 14,
   "metadata": {
    "collapsed": true
   },
   "outputs": [],
   "source": [
    "def memoize(f):\n",
    "    cache = {}\n",
    "    def memoized(*args):\n",
    "        try:\n",
    "            return cache[args]\n",
    "        except KeyError:\n",
    "            result = cache[args] = f(*args)\n",
    "        return result\n",
    "    return memoized"
   ]
  },
  {
   "cell_type": "markdown",
   "metadata": {},
   "source": [
    "кешируем результаты вычислений, дабы не вычислять в последствии повторно."
   ]
  },
  {
   "cell_type": "code",
   "execution_count": 15,
   "metadata": {
    "collapsed": false
   },
   "outputs": [
    {
     "name": "stdout",
     "output_type": "stream",
     "text": [
      "55\n"
     ]
    }
   ],
   "source": [
    "@memoize\n",
    "def fibi(n):\n",
    "    if n > 1:\n",
    "        return fibi(n-1) + fibi(n-2)\n",
    "    return n\n",
    "print fibi(10)"
   ]
  },
  {
   "cell_type": "code",
   "execution_count": 16,
   "metadata": {
    "collapsed": false
   },
   "outputs": [
    {
     "name": "stdout",
     "output_type": "stream",
     "text": [
      "n= 1, fib: 0.000006\n",
      "n= 2, fib: 0.000006\n",
      "n= 3, fib: 0.000005\n",
      "n= 4, fib: 0.000005\n",
      "n= 5, fib: 0.000004\n",
      "n= 6, fib: 0.000004\n",
      "n= 7, fib: 0.000006\n",
      "n= 8, fib: 0.000004\n",
      "n= 9, fib: 0.000004\n",
      "n=10, fib: 0.000003\n",
      "n=11, fib: 0.000023\n",
      "n=12, fib: 0.000022\n",
      "n=13, fib: 0.000017\n",
      "n=14, fib: 0.000017\n",
      "n=15, fib: 0.000017\n",
      "n=16, fib: 0.000021\n",
      "n=17, fib: 0.000017\n",
      "n=18, fib: 0.000017\n",
      "n=19, fib: 0.000021\n"
     ]
    }
   ],
   "source": [
    "t1 = Timer(\"fibi(10)\",\"from __main__ import fibi\")\n",
    "\n",
    "for i in range(1,20):\n",
    "    s = \"fibi(\" + str(i) + \")\"\n",
    "    t1 = Timer(s,\"from __main__ import fibi\")\n",
    "    time1 = t1.timeit(3)\n",
    "    print(\"n=%2d, fib: %8.6f\" % (i, time1))"
   ]
  },
  {
   "cell_type": "code",
   "execution_count": 17,
   "metadata": {
    "collapsed": true
   },
   "outputs": [],
   "source": [
    "import time                                                \n",
    "\n",
    "def timer_dec(method,being_timed=set()):\n",
    "\n",
    "    def timed(*args, **kw):\n",
    "        if method in being_timed: \n",
    "            return method(*args, **kw)\n",
    "        else:\n",
    "            ts = time.time()\n",
    "            being_timed.add(method)\n",
    "            try:\n",
    "                result = method(*args, **kw)\n",
    "            finally:\n",
    "                being_timed.remove(method)\n",
    "            te = time.time()\n",
    "            print 'func:%2r with param:%3r took: %8.6f sec' % \\\n",
    "                  (method.__name__, args, te-ts)\n",
    "            return result\n",
    "    return timed\n"
   ]
  },
  {
   "cell_type": "markdown",
   "metadata": {},
   "source": [
    "Отслеживаем время какой функции мы замеряем, \n",
    "если эта функция уже считается, \n",
    "то, когда она снова вызывает себя, для второго инстанса мы не запускаем счетчик."
   ]
  },
  {
   "cell_type": "code",
   "execution_count": 18,
   "metadata": {
    "collapsed": true
   },
   "outputs": [],
   "source": [
    "@timer_dec\n",
    "def fibi(n):\n",
    "    if n > 1:\n",
    "        return fibi(n-1) + fibi(n-2)\n",
    "    return n"
   ]
  },
  {
   "cell_type": "code",
   "execution_count": 19,
   "metadata": {
    "collapsed": false
   },
   "outputs": [
    {
     "name": "stdout",
     "output_type": "stream",
     "text": [
      "func:'fibi' with param:(1,) took: 0.000005 sec\n",
      "func:'fibi' with param:(2,) took: 0.000010 sec\n",
      "func:'fibi' with param:(3,) took: 0.000014 sec\n",
      "func:'fibi' with param:(4,) took: 0.000020 sec\n",
      "func:'fibi' with param:(5,) took: 0.000028 sec\n",
      "func:'fibi' with param:(6,) took: 0.000048 sec\n",
      "func:'fibi' with param:(7,) took: 0.000153 sec\n",
      "func:'fibi' with param:(8,) took: 0.000120 sec\n",
      "func:'fibi' with param:(9,) took: 0.000188 sec\n",
      "func:'fibi' with param:(10,) took: 0.000293 sec\n",
      "func:'fibi' with param:(11,) took: 0.001022 sec\n",
      "func:'fibi' with param:(12,) took: 0.000398 sec\n",
      "func:'fibi' with param:(13,) took: 0.001441 sec\n",
      "func:'fibi' with param:(14,) took: 0.001458 sec\n"
     ]
    }
   ],
   "source": [
    "for i in range(1,15):\n",
    "    fibi(i)"
   ]
  },
  {
   "cell_type": "markdown",
   "metadata": {
    "collapsed": true
   },
   "source": [
    "Прошу заметить, что счетчик считает не время каждого вызова фукнции fibi \n",
    "- а именно время общее время вызова функции!!! долго страдала, чтобы получилось как надо."
   ]
  },
  {
   "cell_type": "code",
   "execution_count": 25,
   "metadata": {
    "collapsed": false
   },
   "outputs": [],
   "source": [
    "@memoize\n",
    "@timer_dec\n",
    "def fibi(n):\n",
    "    if n > 1:\n",
    "        return fibi(n-1) + fibi(n-2)\n",
    "    return n"
   ]
  },
  {
   "cell_type": "code",
   "execution_count": 26,
   "metadata": {
    "collapsed": false
   },
   "outputs": [
    {
     "name": "stdout",
     "output_type": "stream",
     "text": [
      "func:'fibi' with param:(1,) took: 0.000005 sec\n",
      "func:'fibi' with param:(2,) took: 0.000016 sec\n",
      "func:'fibi' with param:(3,) took: 0.000005 sec\n",
      "func:'fibi' with param:(4,) took: 0.000010 sec\n",
      "func:'fibi' with param:(5,) took: 0.000006 sec\n",
      "func:'fibi' with param:(6,) took: 0.000004 sec\n",
      "func:'fibi' with param:(7,) took: 0.000007 sec\n",
      "func:'fibi' with param:(8,) took: 0.000006 sec\n",
      "func:'fibi' with param:(9,) took: 0.000010 sec\n",
      "func:'fibi' with param:(10,) took: 0.000006 sec\n",
      "func:'fibi' with param:(11,) took: 0.000005 sec\n",
      "func:'fibi' with param:(12,) took: 0.000009 sec\n",
      "func:'fibi' with param:(13,) took: 0.000005 sec\n",
      "func:'fibi' with param:(14,) took: 0.000010 sec\n"
     ]
    }
   ],
   "source": [
    "for i in range(1,15):\n",
    "    fibi(i)"
   ]
  },
  {
   "cell_type": "code",
   "execution_count": 27,
   "metadata": {
    "collapsed": true
   },
   "outputs": [],
   "source": [
    "@timer_dec\n",
    "@memoize\n",
    "def fibi(n):\n",
    "    if n > 1:\n",
    "        return fibi(n-1) + fibi(n-2)\n",
    "    return n"
   ]
  },
  {
   "cell_type": "code",
   "execution_count": 28,
   "metadata": {
    "collapsed": false
   },
   "outputs": [
    {
     "name": "stdout",
     "output_type": "stream",
     "text": [
      "func:'memoized' with param:(1,) took: 0.000014 sec\n",
      "func:'memoized' with param:(2,) took: 0.000026 sec\n",
      "func:'memoized' with param:(3,) took: 0.000021 sec\n",
      "func:'memoized' with param:(4,) took: 0.000014 sec\n",
      "func:'memoized' with param:(5,) took: 0.000021 sec\n",
      "func:'memoized' with param:(6,) took: 0.000014 sec\n",
      "func:'memoized' with param:(7,) took: 0.000020 sec\n",
      "func:'memoized' with param:(8,) took: 0.000023 sec\n",
      "func:'memoized' with param:(9,) took: 0.000018 sec\n",
      "func:'memoized' with param:(10,) took: 0.000022 sec\n",
      "func:'memoized' with param:(11,) took: 0.000014 sec\n",
      "func:'memoized' with param:(12,) took: 0.000019 sec\n",
      "func:'memoized' with param:(13,) took: 0.000017 sec\n",
      "func:'memoized' with param:(14,) took: 0.000016 sec\n"
     ]
    }
   ],
   "source": [
    "for i in range(1,15):\n",
    "    fibi(i)"
   ]
  },
  {
   "cell_type": "markdown",
   "metadata": {},
   "source": [
    "# 1.8-1.9"
   ]
  },
  {
   "cell_type": "code",
   "execution_count": 29,
   "metadata": {
    "collapsed": true
   },
   "outputs": [],
   "source": [
    "class Complx():\n",
    "    def __init__(self, real, imag=0.0):\n",
    "        self.real = real\n",
    "        self.imag = imag\n",
    "\n",
    "    def __add__(self, other):\n",
    "        return Complx(self.real + other.real,\n",
    "                       self.imag + other.imag)\n",
    "\n",
    "    def __sub__(self, other):\n",
    "        return Complx(self.real - other.real,\n",
    "                       self.imag - other.imag)\n",
    "\n",
    "    def __mul__(self, other):\n",
    "        return Complx(self.real*other.real - self.imag*other.imag,\n",
    "                       self.imag*other.real + self.real*other.imag)\n",
    "\n",
    "    def __div__(self, other):\n",
    "        sr, si, otr, oti = self.real, self.imag, \\\n",
    "                         other.real, other.imag # short forms\n",
    "        r = float(otr**2 + oti**2)\n",
    "        return Complx((sr*otr+si*oti)/r, (si*otr-sr*oti)/r)\n",
    "\n",
    "    def __abs__(self):\n",
    "        return sqrt(self.real**2 + self.imag**2)\n",
    "    def __str__(self):\n",
    "        return '(%g, %g)' % (self.real, self.imag)\n",
    "    def __repr__(self):\n",
    "        return 'Complex' + str(self)\n",
    "    \n",
    "    \n",
    "    \n",
    "    def getComplx(self,real, imag):\n",
    "        return self.__real  \n",
    "        return self.__imag\n",
    "    \n",
    "    def setComplx(self, real, image):\n",
    "        self.__real = real        \n",
    "        self.__imag = imag\n",
    "        \n",
    "    @property \n",
    "    def real(self): \n",
    "        return self.real \n",
    "\n",
    "    @real.setter \n",
    "    def real(self, real): \n",
    "        self.real = real \n",
    "\n",
    "    @property \n",
    "    def imag(self): \n",
    "        return self.imag \n",
    "\n",
    "    @imag.setter \n",
    "    def imag(self, imag): \n",
    "        self.imag = imag\n",
    "        "
   ]
  },
  {
   "cell_type": "markdown",
   "metadata": {},
   "source": [
    "Функция-декоратор property упрощает определение новых свойств и изменение существующих. \n",
    "property синтаксически является атрибутом, но с ним могут быть связаны отдельные методы для чтения, записи и удаления.\n",
    "То есть, обращаясь к функции как к аттрибуту, мы неявно вызываем соответствующий метод\n",
    "и его результат как бы становится значением аттрибут,который будет заново вычисляться при каждом обращении к функции"
   ]
  },
  {
   "cell_type": "code",
   "execution_count": null,
   "metadata": {
    "collapsed": true
   },
   "outputs": [],
   "source": []
  }
 ],
 "metadata": {
  "kernelspec": {
   "display_name": "Python 2",
   "language": "python",
   "name": "python2"
  },
  "language_info": {
   "codemirror_mode": {
    "name": "ipython",
    "version": 2
   },
   "file_extension": ".py",
   "mimetype": "text/x-python",
   "name": "python",
   "nbconvert_exporter": "python",
   "pygments_lexer": "ipython2",
   "version": "2.7.11"
  }
 },
 "nbformat": 4,
 "nbformat_minor": 0
}
