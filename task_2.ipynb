{
 "cells": [
  {
   "cell_type": "code",
   "execution_count": 9,
   "metadata": {
    "collapsed": false
   },
   "outputs": [],
   "source": [
    "from bs4 import BeautifulSoup\n",
    "import urllib2"
   ]
  },
  {
   "cell_type": "code",
   "execution_count": 11,
   "metadata": {
    "collapsed": false
   },
   "outputs": [
    {
     "name": "stdout",
     "output_type": "stream",
     "text": [
      "В России в 2017 году появятся купюры номиналом 2000 и 200 рублей\n",
      "Банк России выпустит банкноты достоинством 2000 и 200 руб., которые введут в оборот в 2017 году, передает РИА «Новости» со ссылкой на главу регулятора Эльвиру Набиуллину.\n",
      "«Совет директоров Банка России принял решение о дополнении номинального ряда банкнот банкнотами номиналом 200 рублей и 2000 рублей. На наш взгляд, дополнение номинального ряда банкнот позволит упростить расчеты граждан за товары и услуги»,  — сказала она.\n",
      "Она рассказала, что большинство платежей россиян находится в интервале между 100 руб. и 500 руб., а также между 1000 руб. и 5000 руб.\n",
      "ЦБ планирует ввести новые купюры в оборот уже в 2017 году.\n",
      "«Анализ показывает, что экономически обоснованным выпуск купюр данного номинала является, когда инфляция составляет 4–6%»,  — отметила она, добавив, что цель по инфляции ЦБ составляет 4% в 2017 году.\n",
      "При этом, отметила Набиуллина, выпуск дополнительных номиналов не повлияет на объем наличных денег в обращении.\n",
      "\n"
     ]
    }
   ],
   "source": [
    "html_doc = urllib2.urlopen('http://www.gazeta.ru/business/news/2016/04/12/n_8494541.shtml').read()\n",
    "soup = BeautifulSoup(html_doc)\n",
    "for script in soup([\"script\", \"style\"]):\n",
    "    script.extract() \n",
    "title = soup.find(\"h1\", {\"class\":\"news-body__title\"})\n",
    "result = soup.find(\"div\", {\"class\":\"news-body__text\"})\n",
    "title = title.get_text()\n",
    "result = result.get_text()\n",
    "print title\n",
    "print result"
   ]
  },
  {
   "cell_type": "markdown",
   "metadata": {
    "collapsed": true
   },
   "source": [
    "Тут вроде все просто и понятно. нашла правильный контейнер и с него считала, все что мне было нужно ¯\\_(ツ)_/¯"
   ]
  }
 ],
 "metadata": {
  "kernelspec": {
   "display_name": "Python 2",
   "language": "python",
   "name": "python2"
  },
  "language_info": {
   "codemirror_mode": {
    "name": "ipython",
    "version": 2
   },
   "file_extension": ".py",
   "mimetype": "text/x-python",
   "name": "python",
   "nbconvert_exporter": "python",
   "pygments_lexer": "ipython2",
   "version": "2.7.11"
  }
 },
 "nbformat": 4,
 "nbformat_minor": 0
}
