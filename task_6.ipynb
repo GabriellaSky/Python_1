{
 "cells": [
  {
   "cell_type": "code",
   "execution_count": 27,
   "metadata": {
    "collapsed": true
   },
   "outputs": [],
   "source": [
    "import pandas as pd\n",
    "import math"
   ]
  },
  {
   "cell_type": "code",
   "execution_count": 21,
   "metadata": {
    "collapsed": false
   },
   "outputs": [],
   "source": [
    "dataset = pd.read_csv(\"Skin_NonSkin.txt\",delim_whitespace=True, names=['R', 'G','B','F'])"
   ]
  },
  {
   "cell_type": "code",
   "execution_count": 22,
   "metadata": {
    "collapsed": false
   },
   "outputs": [
    {
     "name": "stdout",
     "output_type": "stream",
     "text": [
      "          R    G    B  F\n",
      "0        74   85  123  1\n",
      "1        73   84  122  1\n",
      "2        72   83  121  1\n",
      "3        70   81  119  1\n",
      "4        70   81  119  1\n",
      "5        69   80  118  1\n",
      "6        70   81  119  1\n",
      "7        70   81  119  1\n",
      "8        76   87  125  1\n",
      "9        76   87  125  1\n",
      "10       77   88  126  1\n",
      "11       77   88  126  1\n",
      "12       77   88  126  1\n",
      "13       78   89  127  1\n",
      "14       77   85  125  1\n",
      "15       78   86  126  1\n",
      "16       78   86  126  1\n",
      "17       77   85  125  1\n",
      "18       76   84  124  1\n",
      "19       77   85  125  1\n",
      "20       80   88  128  1\n",
      "21       83   91  131  1\n",
      "22       83   91  131  1\n",
      "23       84   92  132  1\n",
      "24       84   92  132  1\n",
      "25       83   91  131  1\n",
      "26       80   88  128  1\n",
      "27       78   86  126  1\n",
      "28       78   86  126  1\n",
      "29       79   87  127  1\n",
      "...     ...  ...  ... ..\n",
      "245027  162  161  110  2\n",
      "245028  162  161  110  2\n",
      "245029  162  161  110  2\n",
      "245030  162  161  110  2\n",
      "245031  162  161  110  2\n",
      "245032  162  161  110  2\n",
      "245033  165  164  113  2\n",
      "245034  165  164  113  2\n",
      "245035  165  164  113  2\n",
      "245036  165  164  113  2\n",
      "245037  165  164  113  2\n",
      "245038  164  163  112  2\n",
      "245039  164  163  112  2\n",
      "245040  164  163  112  2\n",
      "245041  163  162  112  2\n",
      "245042  163  162  112  2\n",
      "245043  163  162  112  2\n",
      "245044  163  162  112  2\n",
      "245045  163  162  112  2\n",
      "245046  163  162  112  2\n",
      "245047  163  162  112  2\n",
      "245048  163  162  112  2\n",
      "245049  163  162  112  2\n",
      "245050  163  162  112  2\n",
      "245051  163  162  112  2\n",
      "245052  163  162  112  2\n",
      "245053  163  162  112  2\n",
      "245054  163  162  112  2\n",
      "245055  163  162  112  2\n",
      "245056  255  255  255  2\n",
      "\n",
      "[245057 rows x 4 columns]\n"
     ]
    }
   ],
   "source": [
    "print dataset"
   ]
  },
  {
   "cell_type": "code",
   "execution_count": 28,
   "metadata": {
    "collapsed": true
   },
   "outputs": [],
   "source": [
    "dataset.loc[:,'R*G'] = dataset.R*dataset.G\n",
    "dataset.loc[:,'G*B'] = dataset.G*dataset.B\n",
    "dataset.loc[:,'R*B'] = dataset.R*dataset.B\n",
    "\n",
    "dataset.loc[:,'|R-G|'] = abs(dataset.R-dataset.G)\n",
    "dataset.loc[:,'|G-B|'] = abs(dataset.G-dataset.B)\n",
    "dataset.loc[:,'|R-B|'] = abs(dataset.R-dataset.B)\n"
   ]
  },
  {
   "cell_type": "code",
   "execution_count": 29,
   "metadata": {
    "collapsed": false
   },
   "outputs": [
    {
     "name": "stdout",
     "output_type": "stream",
     "text": [
      "          R    G    B  F      f    R*G    G*B    R*B  |R-G|  |G-B|  |R-B|\n",
      "0        74   85  123  1   6290   6290  10455   9102     11     38     49\n",
      "1        73   84  122  1   6132   6132  10248   8906     11     38     49\n",
      "2        72   83  121  1   5976   5976  10043   8712     11     38     49\n",
      "3        70   81  119  1   5670   5670   9639   8330     11     38     49\n",
      "4        70   81  119  1   5670   5670   9639   8330     11     38     49\n",
      "5        69   80  118  1   5520   5520   9440   8142     11     38     49\n",
      "6        70   81  119  1   5670   5670   9639   8330     11     38     49\n",
      "7        70   81  119  1   5670   5670   9639   8330     11     38     49\n",
      "8        76   87  125  1   6612   6612  10875   9500     11     38     49\n",
      "9        76   87  125  1   6612   6612  10875   9500     11     38     49\n",
      "10       77   88  126  1   6776   6776  11088   9702     11     38     49\n",
      "11       77   88  126  1   6776   6776  11088   9702     11     38     49\n",
      "12       77   88  126  1   6776   6776  11088   9702     11     38     49\n",
      "13       78   89  127  1   6942   6942  11303   9906     11     38     49\n",
      "14       77   85  125  1   6545   6545  10625   9625      8     40     48\n",
      "15       78   86  126  1   6708   6708  10836   9828      8     40     48\n",
      "16       78   86  126  1   6708   6708  10836   9828      8     40     48\n",
      "17       77   85  125  1   6545   6545  10625   9625      8     40     48\n",
      "18       76   84  124  1   6384   6384  10416   9424      8     40     48\n",
      "19       77   85  125  1   6545   6545  10625   9625      8     40     48\n",
      "20       80   88  128  1   7040   7040  11264  10240      8     40     48\n",
      "21       83   91  131  1   7553   7553  11921  10873      8     40     48\n",
      "22       83   91  131  1   7553   7553  11921  10873      8     40     48\n",
      "23       84   92  132  1   7728   7728  12144  11088      8     40     48\n",
      "24       84   92  132  1   7728   7728  12144  11088      8     40     48\n",
      "25       83   91  131  1   7553   7553  11921  10873      8     40     48\n",
      "26       80   88  128  1   7040   7040  11264  10240      8     40     48\n",
      "27       78   86  126  1   6708   6708  10836   9828      8     40     48\n",
      "28       78   86  126  1   6708   6708  10836   9828      8     40     48\n",
      "29       79   87  127  1   6873   6873  11049  10033      8     40     48\n",
      "...     ...  ...  ... ..    ...    ...    ...    ...    ...    ...    ...\n",
      "245027  162  161  110  2  26082  26082  17710  17820      1     51     52\n",
      "245028  162  161  110  2  26082  26082  17710  17820      1     51     52\n",
      "245029  162  161  110  2  26082  26082  17710  17820      1     51     52\n",
      "245030  162  161  110  2  26082  26082  17710  17820      1     51     52\n",
      "245031  162  161  110  2  26082  26082  17710  17820      1     51     52\n",
      "245032  162  161  110  2  26082  26082  17710  17820      1     51     52\n",
      "245033  165  164  113  2  27060  27060  18532  18645      1     51     52\n",
      "245034  165  164  113  2  27060  27060  18532  18645      1     51     52\n",
      "245035  165  164  113  2  27060  27060  18532  18645      1     51     52\n",
      "245036  165  164  113  2  27060  27060  18532  18645      1     51     52\n",
      "245037  165  164  113  2  27060  27060  18532  18645      1     51     52\n",
      "245038  164  163  112  2  26732  26732  18256  18368      1     51     52\n",
      "245039  164  163  112  2  26732  26732  18256  18368      1     51     52\n",
      "245040  164  163  112  2  26732  26732  18256  18368      1     51     52\n",
      "245041  163  162  112  2  26406  26406  18144  18256      1     50     51\n",
      "245042  163  162  112  2  26406  26406  18144  18256      1     50     51\n",
      "245043  163  162  112  2  26406  26406  18144  18256      1     50     51\n",
      "245044  163  162  112  2  26406  26406  18144  18256      1     50     51\n",
      "245045  163  162  112  2  26406  26406  18144  18256      1     50     51\n",
      "245046  163  162  112  2  26406  26406  18144  18256      1     50     51\n",
      "245047  163  162  112  2  26406  26406  18144  18256      1     50     51\n",
      "245048  163  162  112  2  26406  26406  18144  18256      1     50     51\n",
      "245049  163  162  112  2  26406  26406  18144  18256      1     50     51\n",
      "245050  163  162  112  2  26406  26406  18144  18256      1     50     51\n",
      "245051  163  162  112  2  26406  26406  18144  18256      1     50     51\n",
      "245052  163  162  112  2  26406  26406  18144  18256      1     50     51\n",
      "245053  163  162  112  2  26406  26406  18144  18256      1     50     51\n",
      "245054  163  162  112  2  26406  26406  18144  18256      1     50     51\n",
      "245055  163  162  112  2  26406  26406  18144  18256      1     50     51\n",
      "245056  255  255  255  2  65025  65025  65025  65025      0      0      0\n",
      "\n",
      "[245057 rows x 11 columns]\n"
     ]
    }
   ],
   "source": [
    "print dataset"
   ]
  },
  {
   "cell_type": "code",
   "execution_count": 55,
   "metadata": {
    "collapsed": true
   },
   "outputs": [],
   "source": [
    "X = dataset.ix[:,0:3] \n",
    "y = dataset.ix[:,3]\n",
    "\n",
    "X_mult = dataset.ix[:,5:8] \n",
    "X_abs = dataset.ix[:,8:11] "
   ]
  },
  {
   "cell_type": "code",
   "execution_count": 57,
   "metadata": {
    "collapsed": false
   },
   "outputs": [],
   "source": [
    "import numpy as np\n",
    "\n",
    "np.random.seed(0)\n",
    "indices = np.random.permutation(len(X))\n",
    "X = np.array(X)\n",
    "y = np.array(y)\n",
    "X_mult = np.array(X_mult)\n",
    "X_abs = np.array(X_abs)\n",
    "test_size = 100000\n",
    "X_train = X[indices[:-test_size]]\n",
    "y_train = y[indices[:-test_size]]\n",
    "X_test  = X[indices[-test_size:]]\n",
    "y_test  = y[indices[-test_size:]]\n",
    "\n",
    "\n",
    "X_train_mult = X_mult[indices[:-test_size]]\n",
    "X_test_mult  = X_mult[indices[-test_size:]]\n",
    "\n",
    "X_train_abs = X_abs[indices[:-test_size]]\n",
    "X_test_abs  = X_abs[indices[-test_size:]]"
   ]
  },
  {
   "cell_type": "code",
   "execution_count": 58,
   "metadata": {
    "collapsed": false
   },
   "outputs": [
    {
     "data": {
      "text/plain": [
       "KNeighborsClassifier(algorithm='auto', leaf_size=30, metric='minkowski',\n",
       "           metric_params=None, n_jobs=1, n_neighbors=5, p=2,\n",
       "           weights='uniform')"
      ]
     },
     "execution_count": 58,
     "metadata": {},
     "output_type": "execute_result"
    }
   ],
   "source": [
    "from sklearn.neighbors import KNeighborsClassifier\n",
    "\n",
    "model = KNeighborsClassifier()\n",
    "model.fit(X_train, y_train)"
   ]
  },
  {
   "cell_type": "code",
   "execution_count": 59,
   "metadata": {
    "collapsed": false
   },
   "outputs": [
    {
     "name": "stdout",
     "output_type": "stream",
     "text": [
      "0.99948\n"
     ]
    }
   ],
   "source": [
    "predicted = model.predict(X_test)"
   ]
  },
  {
   "cell_type": "code",
   "execution_count": 60,
   "metadata": {
    "collapsed": false
   },
   "outputs": [
    {
     "data": {
      "text/plain": [
       "KNeighborsClassifier(algorithm='auto', leaf_size=30, metric='minkowski',\n",
       "           metric_params=None, n_jobs=1, n_neighbors=5, p=2,\n",
       "           weights='uniform')"
      ]
     },
     "execution_count": 60,
     "metadata": {},
     "output_type": "execute_result"
    }
   ],
   "source": [
    "model_mult = KNeighborsClassifier()\n",
    "model_mult.fit(X_train_mult, y_train)"
   ]
  },
  {
   "cell_type": "code",
   "execution_count": 61,
   "metadata": {
    "collapsed": false
   },
   "outputs": [
    {
     "name": "stdout",
     "output_type": "stream",
     "text": [
      "0.99923\n"
     ]
    }
   ],
   "source": [
    "predicted_mult = model_mult.predict(X_test_mult)"
   ]
  },
  {
   "cell_type": "code",
   "execution_count": 62,
   "metadata": {
    "collapsed": false
   },
   "outputs": [
    {
     "data": {
      "text/plain": [
       "KNeighborsClassifier(algorithm='auto', leaf_size=30, metric='minkowski',\n",
       "           metric_params=None, n_jobs=1, n_neighbors=5, p=2,\n",
       "           weights='uniform')"
      ]
     },
     "execution_count": 62,
     "metadata": {},
     "output_type": "execute_result"
    }
   ],
   "source": [
    "model_abs = KNeighborsClassifier()\n",
    "model_abs.fit(X_train_abs, y_train)"
   ]
  },
  {
   "cell_type": "code",
   "execution_count": 106,
   "metadata": {
    "collapsed": false
   },
   "outputs": [
    {
     "name": "stdout",
     "output_type": "stream",
     "text": [
      "[0.99948, 0.99923, 0.79093]\n"
     ]
    }
   ],
   "source": [
    "predicted_abs = model_mult.predict(X_test_abs)\n",
    "\n",
    "res_knn = list([float(sum(y_test == predicted))/test_size,float(sum(y_test == predicted_mult))/test_size,float(sum(y_test == predicted_abs))/test_size])\n",
    "result = pd.DataFrame(res_knn,columns=['KNN'], index = ['Original data', 'Mult','Abs'])\n",
    "print res_knn\n"
   ]
  },
  {
   "cell_type": "code",
   "execution_count": 74,
   "metadata": {
    "collapsed": false
   },
   "outputs": [
    {
     "data": {
      "text/plain": [
       "LogisticRegression(C=1.0, class_weight=None, dual=False, fit_intercept=True,\n",
       "          intercept_scaling=1, max_iter=100, multi_class='ovr', n_jobs=1,\n",
       "          penalty='l2', random_state=None, solver='liblinear', tol=0.0001,\n",
       "          verbose=0, warm_start=False)"
      ]
     },
     "execution_count": 74,
     "metadata": {},
     "output_type": "execute_result"
    }
   ],
   "source": [
    "from sklearn.linear_model import LogisticRegression\n",
    "\n",
    "model_log = LogisticRegression()\n",
    "model_log.fit(X_train, y_train)"
   ]
  },
  {
   "cell_type": "code",
   "execution_count": 75,
   "metadata": {
    "collapsed": false
   },
   "outputs": [],
   "source": [
    "predicted_log = model_log.predict(X_test)"
   ]
  },
  {
   "cell_type": "code",
   "execution_count": 76,
   "metadata": {
    "collapsed": false
   },
   "outputs": [
    {
     "data": {
      "text/plain": [
       "LogisticRegression(C=1.0, class_weight=None, dual=False, fit_intercept=True,\n",
       "          intercept_scaling=1, max_iter=100, multi_class='ovr', n_jobs=1,\n",
       "          penalty='l2', random_state=None, solver='liblinear', tol=0.0001,\n",
       "          verbose=0, warm_start=False)"
      ]
     },
     "execution_count": 76,
     "metadata": {},
     "output_type": "execute_result"
    }
   ],
   "source": [
    "model_log_mult = LogisticRegression()\n",
    "model_log_mult.fit(X_train_mult, y_train)"
   ]
  },
  {
   "cell_type": "code",
   "execution_count": 77,
   "metadata": {
    "collapsed": false
   },
   "outputs": [],
   "source": [
    "predicted_log_mult = model_log_mult.predict(X_test_mult)"
   ]
  },
  {
   "cell_type": "code",
   "execution_count": 78,
   "metadata": {
    "collapsed": false
   },
   "outputs": [
    {
     "data": {
      "text/plain": [
       "LogisticRegression(C=1.0, class_weight=None, dual=False, fit_intercept=True,\n",
       "          intercept_scaling=1, max_iter=100, multi_class='ovr', n_jobs=1,\n",
       "          penalty='l2', random_state=None, solver='liblinear', tol=0.0001,\n",
       "          verbose=0, warm_start=False)"
      ]
     },
     "execution_count": 78,
     "metadata": {},
     "output_type": "execute_result"
    }
   ],
   "source": [
    "model_log_abs = LogisticRegression()\n",
    "model_log_abs.fit(X_train_abs, y_train)"
   ]
  },
  {
   "cell_type": "code",
   "execution_count": 107,
   "metadata": {
    "collapsed": false
   },
   "outputs": [
    {
     "name": "stdout",
     "output_type": "stream",
     "text": [
      "[0.91787, 0.92915, 0.7692]\n"
     ]
    }
   ],
   "source": [
    "predicted_log_abs = model_log_abs.predict(X_test_mult)\n",
    "\n",
    "res_log = list([float(sum(y_test == predicted_log))/test_size,float(sum(y_test == predicted_log_mult))/test_size,float(sum(y_test == predicted_log_abs))/test_size])\n",
    "result.loc[:,'LogReg'] = res_log\n",
    "print res_log"
   ]
  },
  {
   "cell_type": "code",
   "execution_count": 82,
   "metadata": {
    "collapsed": false
   },
   "outputs": [
    {
     "data": {
      "text/plain": [
       "RandomForestClassifier(bootstrap=True, class_weight=None, criterion='gini',\n",
       "            max_depth=None, max_features='auto', max_leaf_nodes=None,\n",
       "            min_samples_leaf=1, min_samples_split=2,\n",
       "            min_weight_fraction_leaf=0.0, n_estimators=10, n_jobs=1,\n",
       "            oob_score=False, random_state=None, verbose=0,\n",
       "            warm_start=False)"
      ]
     },
     "execution_count": 82,
     "metadata": {},
     "output_type": "execute_result"
    }
   ],
   "source": [
    "from sklearn.ensemble import RandomForestClassifier\n",
    "\n",
    "model_random = RandomForestClassifier()\n",
    "model_random.fit(X_train, y_train)"
   ]
  },
  {
   "cell_type": "code",
   "execution_count": 83,
   "metadata": {
    "collapsed": true
   },
   "outputs": [],
   "source": [
    "predicted_random = model_random.predict(X_test)"
   ]
  },
  {
   "cell_type": "code",
   "execution_count": 85,
   "metadata": {
    "collapsed": false
   },
   "outputs": [
    {
     "data": {
      "text/plain": [
       "LogisticRegression(C=1.0, class_weight=None, dual=False, fit_intercept=True,\n",
       "          intercept_scaling=1, max_iter=100, multi_class='ovr', n_jobs=1,\n",
       "          penalty='l2', random_state=None, solver='liblinear', tol=0.0001,\n",
       "          verbose=0, warm_start=False)"
      ]
     },
     "execution_count": 85,
     "metadata": {},
     "output_type": "execute_result"
    }
   ],
   "source": [
    "model_random_mult = LogisticRegression()\n",
    "model_random_mult.fit(X_train_mult, y_train)"
   ]
  },
  {
   "cell_type": "code",
   "execution_count": 86,
   "metadata": {
    "collapsed": true
   },
   "outputs": [],
   "source": [
    "predicted_random_mult = model_random_mult.predict(X_test_mult)"
   ]
  },
  {
   "cell_type": "code",
   "execution_count": 84,
   "metadata": {
    "collapsed": false
   },
   "outputs": [
    {
     "data": {
      "text/plain": [
       "LogisticRegression(C=1.0, class_weight=None, dual=False, fit_intercept=True,\n",
       "          intercept_scaling=1, max_iter=100, multi_class='ovr', n_jobs=1,\n",
       "          penalty='l2', random_state=None, solver='liblinear', tol=0.0001,\n",
       "          verbose=0, warm_start=False)"
      ]
     },
     "execution_count": 84,
     "metadata": {},
     "output_type": "execute_result"
    }
   ],
   "source": [
    "model_random_abs = LogisticRegression()\n",
    "model_random_abs.fit(X_train_abs, y_train)"
   ]
  },
  {
   "cell_type": "code",
   "execution_count": 108,
   "metadata": {
    "collapsed": false
   },
   "outputs": [
    {
     "name": "stdout",
     "output_type": "stream",
     "text": [
      "[0.99938, 0.92915, 0.7692]\n"
     ]
    }
   ],
   "source": [
    "predicted_random_abs = model_random_abs.predict(X_test_mult)\n",
    "\n",
    "res_random = list([float(sum(y_test == predicted_random))/test_size,float(sum(y_test == predicted_random_mult))/test_size,float(sum(y_test == predicted_random_abs))/test_size])\n",
    "result.loc[:,'R. Forest'] = res_random\n",
    "print res_random"
   ]
  },
  {
   "cell_type": "code",
   "execution_count": 109,
   "metadata": {
    "collapsed": false
   },
   "outputs": [
    {
     "name": "stdout",
     "output_type": "stream",
     "text": [
      "                   KNN   LogReg  R. Forest\n",
      "Original data  0.99948  0.91787    0.99938\n",
      "Mult           0.99923  0.92915    0.92915\n",
      "Abs            0.79093  0.76920    0.76920\n"
     ]
    }
   ],
   "source": [
    "print result\n"
   ]
  },
  {
   "cell_type": "code",
   "execution_count": null,
   "metadata": {
    "collapsed": true
   },
   "outputs": [],
   "source": []
  }
 ],
 "metadata": {
  "kernelspec": {
   "display_name": "Python 2",
   "language": "python",
   "name": "python2"
  },
  "language_info": {
   "codemirror_mode": {
    "name": "ipython",
    "version": 2
   },
   "file_extension": ".py",
   "mimetype": "text/x-python",
   "name": "python",
   "nbconvert_exporter": "python",
   "pygments_lexer": "ipython2",
   "version": "2.7.11"
  }
 },
 "nbformat": 4,
 "nbformat_minor": 0
}
