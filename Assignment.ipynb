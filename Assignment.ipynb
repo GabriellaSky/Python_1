{
 "cells": [
  {
   "cell_type": "markdown",
   "metadata": {},
   "source": [
    "# Практическое задание"
   ]
  },
  {
   "cell_type": "raw",
   "metadata": {},
   "source": [
    "0. Ниже напишите Ваши ФИО и номер группы."
   ]
  },
  {
   "cell_type": "markdown",
   "metadata": {
    "collapsed": true
   },
   "source": [
    "Скиталинская Габриелла 192 и чо"
   ]
  },
  {
   "cell_type": "markdown",
   "metadata": {},
   "source": [
    "### Задача Bike Sharing"
   ]
  },
  {
   "cell_type": "markdown",
   "metadata": {},
   "source": [
    "Задача на kaggle: https://www.kaggle.com/c/bike-sharing-demand\n",
    "\n",
    "По историческим данным о прокате велосипедов и погодных условиях необходимо спрогнозировтаь спрос на прокат велосипедов.\n",
    "\n",
    "В исходной псотановке задачи доступно 9 признаков: https://www.kaggle.com/c/prudential-life-insurance-assessment/data\n",
    "\n",
    "В наборе признаков присутсвуют вещественные, категориальные, и бинарные данные. "
   ]
  },
  {
   "cell_type": "markdown",
   "metadata": {},
   "source": [
    "### Анализ и визуализация данных"
   ]
  },
  {
   "cell_type": "code",
   "execution_count": 2,
   "metadata": {
    "collapsed": true
   },
   "outputs": [],
   "source": [
    "from sklearn import cross_validation, ensemble, grid_search, linear_model, metrics, pipeline, preprocessing\n",
    "\n",
    "import numpy as np\n",
    "import pandas as pd"
   ]
  },
  {
   "cell_type": "code",
   "execution_count": 3,
   "metadata": {
    "collapsed": false
   },
   "outputs": [
    {
     "name": "stdout",
     "output_type": "stream",
     "text": [
      "Populating the interactive namespace from numpy and matplotlib\n"
     ]
    }
   ],
   "source": [
    "%pylab inline"
   ]
  },
  {
   "cell_type": "raw",
   "metadata": {},
   "source": [
    "1. Считайте данные из файла bike_sharing_train.csv в pandas.DataFrame"
   ]
  },
  {
   "cell_type": "code",
   "execution_count": 54,
   "metadata": {
    "collapsed": true
   },
   "outputs": [],
   "source": [
    "data = pd.read_csv(\"bike_sharing_train.csv\", na_values=\"NaN\")"
   ]
  },
  {
   "cell_type": "raw",
   "metadata": {},
   "source": [
    "2. Выведите небольшую часть получившегося DataFrame на экран, посмотрите на данные"
   ]
  },
  {
   "cell_type": "code",
   "execution_count": 5,
   "metadata": {
    "collapsed": false
   },
   "outputs": [
    {
     "data": {
      "text/html": [
       "<div>\n",
       "<table border=\"1\" class=\"dataframe\">\n",
       "  <thead>\n",
       "    <tr style=\"text-align: right;\">\n",
       "      <th></th>\n",
       "      <th>datetime</th>\n",
       "      <th>season</th>\n",
       "      <th>holiday</th>\n",
       "      <th>workingday</th>\n",
       "      <th>weather</th>\n",
       "      <th>temp</th>\n",
       "      <th>atemp</th>\n",
       "      <th>humidity</th>\n",
       "      <th>windspeed</th>\n",
       "      <th>count</th>\n",
       "    </tr>\n",
       "  </thead>\n",
       "  <tbody>\n",
       "    <tr>\n",
       "      <th>0</th>\n",
       "      <td>2011-01-01 00:00:00</td>\n",
       "      <td>1</td>\n",
       "      <td>0</td>\n",
       "      <td>0</td>\n",
       "      <td>1</td>\n",
       "      <td>9.84</td>\n",
       "      <td>14.395</td>\n",
       "      <td>81</td>\n",
       "      <td>0.0</td>\n",
       "      <td>16</td>\n",
       "    </tr>\n",
       "    <tr>\n",
       "      <th>1</th>\n",
       "      <td>2011-01-01 01:00:00</td>\n",
       "      <td>1</td>\n",
       "      <td>0</td>\n",
       "      <td>0</td>\n",
       "      <td>1</td>\n",
       "      <td>9.02</td>\n",
       "      <td>13.635</td>\n",
       "      <td>80</td>\n",
       "      <td>0.0</td>\n",
       "      <td>40</td>\n",
       "    </tr>\n",
       "    <tr>\n",
       "      <th>2</th>\n",
       "      <td>2011-01-01 02:00:00</td>\n",
       "      <td>1</td>\n",
       "      <td>0</td>\n",
       "      <td>0</td>\n",
       "      <td>1</td>\n",
       "      <td>9.02</td>\n",
       "      <td>13.635</td>\n",
       "      <td>80</td>\n",
       "      <td>0.0</td>\n",
       "      <td>32</td>\n",
       "    </tr>\n",
       "    <tr>\n",
       "      <th>3</th>\n",
       "      <td>2011-01-01 03:00:00</td>\n",
       "      <td>1</td>\n",
       "      <td>0</td>\n",
       "      <td>0</td>\n",
       "      <td>1</td>\n",
       "      <td>9.84</td>\n",
       "      <td>14.395</td>\n",
       "      <td>75</td>\n",
       "      <td>0.0</td>\n",
       "      <td>13</td>\n",
       "    </tr>\n",
       "    <tr>\n",
       "      <th>4</th>\n",
       "      <td>2011-01-01 04:00:00</td>\n",
       "      <td>1</td>\n",
       "      <td>0</td>\n",
       "      <td>0</td>\n",
       "      <td>1</td>\n",
       "      <td>9.84</td>\n",
       "      <td>14.395</td>\n",
       "      <td>75</td>\n",
       "      <td>0.0</td>\n",
       "      <td>1</td>\n",
       "    </tr>\n",
       "  </tbody>\n",
       "</table>\n",
       "</div>"
      ],
      "text/plain": [
       "              datetime  season  holiday  workingday  weather  temp   atemp  \\\n",
       "0  2011-01-01 00:00:00       1        0           0        1  9.84  14.395   \n",
       "1  2011-01-01 01:00:00       1        0           0        1  9.02  13.635   \n",
       "2  2011-01-01 02:00:00       1        0           0        1  9.02  13.635   \n",
       "3  2011-01-01 03:00:00       1        0           0        1  9.84  14.395   \n",
       "4  2011-01-01 04:00:00       1        0           0        1  9.84  14.395   \n",
       "\n",
       "   humidity  windspeed  count  \n",
       "0        81        0.0     16  \n",
       "1        80        0.0     40  \n",
       "2        80        0.0     32  \n",
       "3        75        0.0     13  \n",
       "4        75        0.0      1  "
      ]
     },
     "execution_count": 5,
     "metadata": {},
     "output_type": "execute_result"
    }
   ],
   "source": [
    "data.head()"
   ]
  },
  {
   "cell_type": "markdown",
   "metadata": {},
   "source": [
    "3 . Проанализируйте описание данных:\n",
    "\n",
    "***datetime*** - hourly date + timestamp  \n",
    "\n",
    "***season*** -  1 = spring, 2 = summer, 3 = fall, 4 = winter \n",
    "\n",
    "***holiday*** - whether the day is considered a holiday\n",
    "\n",
    "***workingday*** - whether the day is neither a weekend nor holiday\n",
    "\n",
    "***weather*** - 1: Clear, Few clouds, Partly cloudy, Partly cloudy\n",
    "2: Mist + Cloudy, Mist + Broken clouds, Mist + Few clouds, Mist\n",
    "3: Light Snow, Light Rain + Thunderstorm + Scattered clouds, Light Rain + Scattered clouds\n",
    "4: Heavy Rain + Ice Pallets + Thunderstorm + Mist, Snow + Fog \n",
    "    \n",
    "***temp*** - temperature in Celsius\n",
    "\n",
    "***atemp*** - \"feels like\" temperature in Celsius\n",
    "\n",
    "***humidity*** - relative humidity\n",
    "\n",
    "***windspeed*** - wind speed\n",
    "\n",
    "***count*** - number of total rentals"
   ]
  },
  {
   "cell_type": "raw",
   "metadata": {},
   "source": [
    "4. По описанию данных предположите, какие признаки окажут наибольший вклад в модель?"
   ]
  },
  {
   "cell_type": "markdown",
   "metadata": {
    "collapsed": true
   },
   "source": [
    "Температура, погода, сезон"
   ]
  },
  {
   "cell_type": "raw",
   "metadata": {},
   "source": [
    "5. Предположите, какие признаки окажутся наименее полезными?"
   ]
  },
  {
   "cell_type": "markdown",
   "metadata": {
    "collapsed": true
   },
   "source": [
    "влажность, время наверное"
   ]
  },
  {
   "cell_type": "raw",
   "metadata": {},
   "source": [
    "6. В наборе данных доступны вещественные, бинарные и категориальные признаки, однако со всеми из них можно работать как с вещественными. Давайте посмотрим на графиках, как целевой признак зависит от остальных. \n",
    "Постройте графики, на которых отробразите объекты в пространстве пар целевая функция/признак для всех признаков.\n",
    "Для наглядности используйте pylab.subplot."
   ]
  },
  {
   "cell_type": "code",
   "execution_count": 55,
   "metadata": {
    "collapsed": true
   },
   "outputs": [],
   "source": [
    "def date_to_year(string):\n",
    "    return int(string[0:4])\n",
    "\n",
    "def date_to_month(string):\n",
    "    return int(string[5:7])\n",
    "\n",
    "def date_to_day(string):\n",
    "    return int(string[8:10])\n",
    "def date_to_hour(string):\n",
    "    return int(string[11:13])"
   ]
  },
  {
   "cell_type": "code",
   "execution_count": 56,
   "metadata": {
    "collapsed": true
   },
   "outputs": [],
   "source": [
    "data['year']=data.datetime.map(date_to_year)\n",
    "data['month']=data.datetime.map(date_to_month)\n",
    "data['day']=data.datetime.map(date_to_day)\n",
    "data['hour']=data.datetime.map(date_to_hour)\n",
    "data.drop('datetime', axis=1, inplace=True)"
   ]
  },
  {
   "cell_type": "code",
   "execution_count": 57,
   "metadata": {
    "collapsed": true
   },
   "outputs": [],
   "source": [
    "features = data.columns.drop([\"count\"]).tolist()\n",
    "answer = [\"count\"]"
   ]
  },
  {
   "cell_type": "code",
   "execution_count": 14,
   "metadata": {
    "collapsed": false
   },
   "outputs": [
    {
     "data": {
      "image/png": "[encoded data removed]",
      "text/plain": [
       "<matplotlib.figure.Figure at 0x1252355d0>"
      ]
     },
     "metadata": {},
     "output_type": "display_data"
    }
   ],
   "source": [
    "from matplotlib import pylab as plt\n",
    "\n",
    "fig = plt.figure(figsize=(15,15))\n",
    "for i in range(len(features)):\n",
    "    plt.subplot(4, 3, i + 1,)\n",
    "    plt.xlabel(features[i])\n",
    "    plt.ylabel('count')\n",
    "    plt.plot(data[features[i]], data[answer],'o')"
   ]
  },
  {
   "cell_type": "raw",
   "metadata": {},
   "source": [
    "7. Какие выводы Вы можете сделать по графикам? Например, в каком году прокат велосипедов пользовался большим спросом? В какие дни, рабочие или выходные, прокат пользуется большим спросом?"
   ]
  },
  {
   "cell_type": "markdown",
   "metadata": {
    "collapsed": true
   },
   "source": [
    "В 2012 году. в рабочие дни. "
   ]
  },
  {
   "cell_type": "raw",
   "metadata": {},
   "source": [
    "Давайте более строго оценим уровень линейной зависимости между признаками и целевой переменной. Хорошей мерой линейной зависимости между двумя векторами является корреляция Пирсона. В pandas ее можно посчитать с помощью двух методов dataFrame: corr и corrwith. Метод dataFrame.corr вычисляет матрицу корреляций всех признаков из dataFrame. Методу df.corrwith нужно подать еще один dataFrame в качестве аргумента, и тогда он посчитает попарные корреляции между признаками из исходного dataFrame и переданного dataFrame.\n",
    "\n",
    "8. Посчитайте корреляции всех признаков с целевой функцией с помощью метода corrwith. Есть ли в выборке признаки, коррелирующие с целевой функцией?"
   ]
  },
  {
   "cell_type": "code",
   "execution_count": 15,
   "metadata": {
    "collapsed": false
   },
   "outputs": [
    {
     "data": {
      "text/plain": [
       "season        0.163439\n",
       "holiday      -0.005393\n",
       "workingday    0.011594\n",
       "weather      -0.128655\n",
       "temp          0.394454\n",
       "atemp         0.389784\n",
       "humidity     -0.317371\n",
       "windspeed     0.101369\n",
       "count         1.000000\n",
       "year          0.260403\n",
       "month         0.166862\n",
       "day           0.019826\n",
       "hour          0.400601\n",
       "dtype: float64"
      ]
     },
     "execution_count": 15,
     "metadata": {},
     "output_type": "execute_result"
    }
   ],
   "source": [
    "data.corrwith(data['count'])"
   ]
  },
  {
   "cell_type": "markdown",
   "metadata": {},
   "source": [
    "сильно коррелирующих признаков нет."
   ]
  },
  {
   "cell_type": "raw",
   "metadata": {},
   "source": [
    "9. Посчитайте попарные корреляции между парами признаков с помощью метода corr. Есть ли в выборке признаки, сильно коррелирующие между собой? "
   ]
  },
  {
   "cell_type": "code",
   "execution_count": 16,
   "metadata": {
    "collapsed": false
   },
   "outputs": [
    {
     "data": {
      "text/html": [
       "<div>\n",
       "<table border=\"1\" class=\"dataframe\">\n",
       "  <thead>\n",
       "    <tr style=\"text-align: right;\">\n",
       "      <th></th>\n",
       "      <th>season</th>\n",
       "      <th>holiday</th>\n",
       "      <th>workingday</th>\n",
       "      <th>weather</th>\n",
       "      <th>temp</th>\n",
       "      <th>atemp</th>\n",
       "      <th>humidity</th>\n",
       "      <th>windspeed</th>\n",
       "      <th>count</th>\n",
       "      <th>year</th>\n",
       "      <th>month</th>\n",
       "      <th>day</th>\n",
       "      <th>hour</th>\n",
       "    </tr>\n",
       "  </thead>\n",
       "  <tbody>\n",
       "    <tr>\n",
       "      <th>season</th>\n",
       "      <td>1.000000</td>\n",
       "      <td>0.029368</td>\n",
       "      <td>-0.008126</td>\n",
       "      <td>0.008879</td>\n",
       "      <td>0.258689</td>\n",
       "      <td>0.264744</td>\n",
       "      <td>0.190610</td>\n",
       "      <td>-0.147121</td>\n",
       "      <td>0.163439</td>\n",
       "      <td>-0.004797</td>\n",
       "      <td>0.971524</td>\n",
       "      <td>0.001729</td>\n",
       "      <td>-0.006546</td>\n",
       "    </tr>\n",
       "    <tr>\n",
       "      <th>holiday</th>\n",
       "      <td>0.029368</td>\n",
       "      <td>1.000000</td>\n",
       "      <td>-0.250491</td>\n",
       "      <td>-0.007074</td>\n",
       "      <td>0.000295</td>\n",
       "      <td>-0.005215</td>\n",
       "      <td>0.001929</td>\n",
       "      <td>0.008409</td>\n",
       "      <td>-0.005393</td>\n",
       "      <td>0.012021</td>\n",
       "      <td>0.001731</td>\n",
       "      <td>-0.015877</td>\n",
       "      <td>-0.000354</td>\n",
       "    </tr>\n",
       "    <tr>\n",
       "      <th>workingday</th>\n",
       "      <td>-0.008126</td>\n",
       "      <td>-0.250491</td>\n",
       "      <td>1.000000</td>\n",
       "      <td>0.033772</td>\n",
       "      <td>0.029966</td>\n",
       "      <td>0.024660</td>\n",
       "      <td>-0.010880</td>\n",
       "      <td>0.013373</td>\n",
       "      <td>0.011594</td>\n",
       "      <td>-0.002482</td>\n",
       "      <td>-0.003394</td>\n",
       "      <td>0.009829</td>\n",
       "      <td>0.002780</td>\n",
       "    </tr>\n",
       "    <tr>\n",
       "      <th>weather</th>\n",
       "      <td>0.008879</td>\n",
       "      <td>-0.007074</td>\n",
       "      <td>0.033772</td>\n",
       "      <td>1.000000</td>\n",
       "      <td>-0.055035</td>\n",
       "      <td>-0.055376</td>\n",
       "      <td>0.406244</td>\n",
       "      <td>0.007261</td>\n",
       "      <td>-0.128655</td>\n",
       "      <td>-0.012548</td>\n",
       "      <td>0.012144</td>\n",
       "      <td>-0.007890</td>\n",
       "      <td>-0.022740</td>\n",
       "    </tr>\n",
       "    <tr>\n",
       "      <th>temp</th>\n",
       "      <td>0.258689</td>\n",
       "      <td>0.000295</td>\n",
       "      <td>0.029966</td>\n",
       "      <td>-0.055035</td>\n",
       "      <td>1.000000</td>\n",
       "      <td>0.984948</td>\n",
       "      <td>-0.064949</td>\n",
       "      <td>-0.017852</td>\n",
       "      <td>0.394454</td>\n",
       "      <td>0.061226</td>\n",
       "      <td>0.257589</td>\n",
       "      <td>0.015551</td>\n",
       "      <td>0.145430</td>\n",
       "    </tr>\n",
       "    <tr>\n",
       "      <th>atemp</th>\n",
       "      <td>0.264744</td>\n",
       "      <td>-0.005215</td>\n",
       "      <td>0.024660</td>\n",
       "      <td>-0.055376</td>\n",
       "      <td>0.984948</td>\n",
       "      <td>1.000000</td>\n",
       "      <td>-0.043536</td>\n",
       "      <td>-0.057473</td>\n",
       "      <td>0.389784</td>\n",
       "      <td>0.058540</td>\n",
       "      <td>0.264173</td>\n",
       "      <td>0.011866</td>\n",
       "      <td>0.140343</td>\n",
       "    </tr>\n",
       "    <tr>\n",
       "      <th>humidity</th>\n",
       "      <td>0.190610</td>\n",
       "      <td>0.001929</td>\n",
       "      <td>-0.010880</td>\n",
       "      <td>0.406244</td>\n",
       "      <td>-0.064949</td>\n",
       "      <td>-0.043536</td>\n",
       "      <td>1.000000</td>\n",
       "      <td>-0.318607</td>\n",
       "      <td>-0.317371</td>\n",
       "      <td>-0.078606</td>\n",
       "      <td>0.204537</td>\n",
       "      <td>-0.011335</td>\n",
       "      <td>-0.278011</td>\n",
       "    </tr>\n",
       "    <tr>\n",
       "      <th>windspeed</th>\n",
       "      <td>-0.147121</td>\n",
       "      <td>0.008409</td>\n",
       "      <td>0.013373</td>\n",
       "      <td>0.007261</td>\n",
       "      <td>-0.017852</td>\n",
       "      <td>-0.057473</td>\n",
       "      <td>-0.318607</td>\n",
       "      <td>1.000000</td>\n",
       "      <td>0.101369</td>\n",
       "      <td>-0.015221</td>\n",
       "      <td>-0.150192</td>\n",
       "      <td>0.036157</td>\n",
       "      <td>0.146631</td>\n",
       "    </tr>\n",
       "    <tr>\n",
       "      <th>count</th>\n",
       "      <td>0.163439</td>\n",
       "      <td>-0.005393</td>\n",
       "      <td>0.011594</td>\n",
       "      <td>-0.128655</td>\n",
       "      <td>0.394454</td>\n",
       "      <td>0.389784</td>\n",
       "      <td>-0.317371</td>\n",
       "      <td>0.101369</td>\n",
       "      <td>1.000000</td>\n",
       "      <td>0.260403</td>\n",
       "      <td>0.166862</td>\n",
       "      <td>0.019826</td>\n",
       "      <td>0.400601</td>\n",
       "    </tr>\n",
       "    <tr>\n",
       "      <th>year</th>\n",
       "      <td>-0.004797</td>\n",
       "      <td>0.012021</td>\n",
       "      <td>-0.002482</td>\n",
       "      <td>-0.012548</td>\n",
       "      <td>0.061226</td>\n",
       "      <td>0.058540</td>\n",
       "      <td>-0.078606</td>\n",
       "      <td>-0.015221</td>\n",
       "      <td>0.260403</td>\n",
       "      <td>1.000000</td>\n",
       "      <td>-0.004932</td>\n",
       "      <td>0.001800</td>\n",
       "      <td>-0.004234</td>\n",
       "    </tr>\n",
       "    <tr>\n",
       "      <th>month</th>\n",
       "      <td>0.971524</td>\n",
       "      <td>0.001731</td>\n",
       "      <td>-0.003394</td>\n",
       "      <td>0.012144</td>\n",
       "      <td>0.257589</td>\n",
       "      <td>0.264173</td>\n",
       "      <td>0.204537</td>\n",
       "      <td>-0.150192</td>\n",
       "      <td>0.166862</td>\n",
       "      <td>-0.004932</td>\n",
       "      <td>1.000000</td>\n",
       "      <td>0.001974</td>\n",
       "      <td>-0.006818</td>\n",
       "    </tr>\n",
       "    <tr>\n",
       "      <th>day</th>\n",
       "      <td>0.001729</td>\n",
       "      <td>-0.015877</td>\n",
       "      <td>0.009829</td>\n",
       "      <td>-0.007890</td>\n",
       "      <td>0.015551</td>\n",
       "      <td>0.011866</td>\n",
       "      <td>-0.011335</td>\n",
       "      <td>0.036157</td>\n",
       "      <td>0.019826</td>\n",
       "      <td>0.001800</td>\n",
       "      <td>0.001974</td>\n",
       "      <td>1.000000</td>\n",
       "      <td>0.001132</td>\n",
       "    </tr>\n",
       "    <tr>\n",
       "      <th>hour</th>\n",
       "      <td>-0.006546</td>\n",
       "      <td>-0.000354</td>\n",
       "      <td>0.002780</td>\n",
       "      <td>-0.022740</td>\n",
       "      <td>0.145430</td>\n",
       "      <td>0.140343</td>\n",
       "      <td>-0.278011</td>\n",
       "      <td>0.146631</td>\n",
       "      <td>0.400601</td>\n",
       "      <td>-0.004234</td>\n",
       "      <td>-0.006818</td>\n",
       "      <td>0.001132</td>\n",
       "      <td>1.000000</td>\n",
       "    </tr>\n",
       "  </tbody>\n",
       "</table>\n",
       "</div>"
      ],
      "text/plain": [
       "              season   holiday  workingday   weather      temp     atemp  \\\n",
       "season      1.000000  0.029368   -0.008126  0.008879  0.258689  0.264744   \n",
       "holiday     0.029368  1.000000   -0.250491 -0.007074  0.000295 -0.005215   \n",
       "workingday -0.008126 -0.250491    1.000000  0.033772  0.029966  0.024660   \n",
       "weather     0.008879 -0.007074    0.033772  1.000000 -0.055035 -0.055376   \n",
       "temp        0.258689  0.000295    0.029966 -0.055035  1.000000  0.984948   \n",
       "atemp       0.264744 -0.005215    0.024660 -0.055376  0.984948  1.000000   \n",
       "humidity    0.190610  0.001929   -0.010880  0.406244 -0.064949 -0.043536   \n",
       "windspeed  -0.147121  0.008409    0.013373  0.007261 -0.017852 -0.057473   \n",
       "count       0.163439 -0.005393    0.011594 -0.128655  0.394454  0.389784   \n",
       "year       -0.004797  0.012021   -0.002482 -0.012548  0.061226  0.058540   \n",
       "month       0.971524  0.001731   -0.003394  0.012144  0.257589  0.264173   \n",
       "day         0.001729 -0.015877    0.009829 -0.007890  0.015551  0.011866   \n",
       "hour       -0.006546 -0.000354    0.002780 -0.022740  0.145430  0.140343   \n",
       "\n",
       "            humidity  windspeed     count      year     month       day  \\\n",
       "season      0.190610  -0.147121  0.163439 -0.004797  0.971524  0.001729   \n",
       "holiday     0.001929   0.008409 -0.005393  0.012021  0.001731 -0.015877   \n",
       "workingday -0.010880   0.013373  0.011594 -0.002482 -0.003394  0.009829   \n",
       "weather     0.406244   0.007261 -0.128655 -0.012548  0.012144 -0.007890   \n",
       "temp       -0.064949  -0.017852  0.394454  0.061226  0.257589  0.015551   \n",
       "atemp      -0.043536  -0.057473  0.389784  0.058540  0.264173  0.011866   \n",
       "humidity    1.000000  -0.318607 -0.317371 -0.078606  0.204537 -0.011335   \n",
       "windspeed  -0.318607   1.000000  0.101369 -0.015221 -0.150192  0.036157   \n",
       "count      -0.317371   0.101369  1.000000  0.260403  0.166862  0.019826   \n",
       "year       -0.078606  -0.015221  0.260403  1.000000 -0.004932  0.001800   \n",
       "month       0.204537  -0.150192  0.166862 -0.004932  1.000000  0.001974   \n",
       "day        -0.011335   0.036157  0.019826  0.001800  0.001974  1.000000   \n",
       "hour       -0.278011   0.146631  0.400601 -0.004234 -0.006818  0.001132   \n",
       "\n",
       "                hour  \n",
       "season     -0.006546  \n",
       "holiday    -0.000354  \n",
       "workingday  0.002780  \n",
       "weather    -0.022740  \n",
       "temp        0.145430  \n",
       "atemp       0.140343  \n",
       "humidity   -0.278011  \n",
       "windspeed   0.146631  \n",
       "count       0.400601  \n",
       "year       -0.004234  \n",
       "month      -0.006818  \n",
       "day         0.001132  \n",
       "hour        1.000000  "
      ]
     },
     "execution_count": 16,
     "metadata": {},
     "output_type": "execute_result"
    }
   ],
   "source": [
    "data.corr()"
   ]
  },
  {
   "cell_type": "markdown",
   "metadata": {},
   "source": [
    "Сильно коррелируют время года и месяц, температура и \"ощущаемая\" температура, что ужасно логично :D"
   ]
  },
  {
   "cell_type": "raw",
   "metadata": {},
   "source": [
    "10. Посчитайте средние значения и отклонения для признаков. Отличается ли масштаб признаков? К чему это может привести?"
   ]
  },
  {
   "cell_type": "code",
   "execution_count": 21,
   "metadata": {
    "collapsed": false
   },
   "outputs": [
    {
     "name": "stdout",
     "output_type": "stream",
     "text": [
      "season           2.506614\n",
      "holiday          0.028569\n",
      "workingday       0.680875\n",
      "weather          1.418427\n",
      "temp            20.230860\n",
      "atemp           23.655084\n",
      "humidity        61.886460\n",
      "windspeed       12.799395\n",
      "count          191.574132\n",
      "year          2011.501929\n",
      "month            6.521495\n",
      "day              9.992559\n",
      "hour            11.541613\n",
      "dtype: float64\n",
      "season          1.116174\n",
      "holiday         0.166599\n",
      "workingday      0.466159\n",
      "weather         0.633839\n",
      "temp            7.791590\n",
      "atemp           8.474601\n",
      "humidity       19.245033\n",
      "windspeed       8.164537\n",
      "count         181.144454\n",
      "year            0.500019\n",
      "month           3.444373\n",
      "day             5.476608\n",
      "hour            6.915838\n",
      "dtype: float64\n"
     ]
    }
   ],
   "source": [
    "print data.mean()\n",
    "print data.std()\n"
   ]
  },
  {
   "cell_type": "markdown",
   "metadata": {},
   "source": [
    "Сильно отличается! ОПАСНОСТЬ!! в регрессии например будут учитываться только «крупномасштабные» признаки."
   ]
  },
  {
   "cell_type": "markdown",
   "metadata": {},
   "source": [
    "### Линейные модели"
   ]
  },
  {
   "cell_type": "raw",
   "metadata": {},
   "source": [
    "1. Разделите данные на обучающую и тестовую выборки. Данные имеют временную приявязку, поэтому их нужно разделить по времени: в тестовую выборку нужно выделить объекты из более позднего временного промежутка, по сравнению с обучающей выборкой. РАзмер тестовой выборки выеберите самостоятельно. "
   ]
  },
  {
   "cell_type": "code",
   "execution_count": 58,
   "metadata": {
    "collapsed": false
   },
   "outputs": [],
   "source": [
    "from sklearn.cross_validation import train_test_split\n",
    "from sklearn.preprocessing import LabelEncoder\n",
    "\n",
    "X = data.drop('count', axis=1) \n",
    "y = data[\"count\"]\n",
    "\n",
    "X_train, X_test, y_train, y_test = train_test_split(X,y,test_size=0.25)"
   ]
  },
  {
   "cell_type": "raw",
   "metadata": {},
   "source": [
    "2.  В наборе данных доступны вещественные, бинарные и категориальные признаки, однако со всеми из них можно работать как с вещественными признаками, давайте будем делать именно так. Согласно пункту 10 из раздела \"Анализ и визуализация данных\" признаки имеют разный маштаб. Отбмасштабируйте признаки с помощью преобразования preprocessing.StandardScaler. "
   ]
  },
  {
   "cell_type": "code",
   "execution_count": 32,
   "metadata": {
    "collapsed": true
   },
   "outputs": [],
   "source": [
    "from sklearn.preprocessing import StandardScaler\n",
    "\n",
    "X_train = StandardScaler().fit_transform(X_train)\n",
    "X_test = StandardScaler().fit_transform(X_test)"
   ]
  },
  {
   "cell_type": "raw",
   "metadata": {},
   "source": [
    "3.1 Обучите модели linear_model.SGDRegressor и linear_model.Lasso. Оцените качество модели с помощью метрики MAE (metrics.mean_absolute_error). Сравните качество на обучении и на тесте. "
   ]
  },
  {
   "cell_type": "code",
   "execution_count": 33,
   "metadata": {
    "collapsed": false
   },
   "outputs": [
    {
     "name": "stdout",
     "output_type": "stream",
     "text": [
      "105.62956454\n",
      "106.14196484\n",
      "105.377294927\n",
      "105.957239551\n"
     ]
    }
   ],
   "source": [
    "from sklearn.linear_model import SGDRegressor, Lasso\n",
    "from sklearn.metrics import mean_absolute_error\n",
    "\n",
    "sgd = SGDRegressor()\n",
    "sgd.fit(X_train, y_train)\n",
    "\n",
    "lasso = Lasso()\n",
    "lasso.fit(X_train, y_train)\n",
    "\n",
    "y_sgd = sgd.predict(X_test)\n",
    "y_lasso = lasso.predict(X_test)\n",
    "\n",
    "print (mean_absolute_error(y_train, sgd.predict(X_train)))\n",
    "print (mean_absolute_error(y_train, lasso.predict(X_train)))\n",
    "print (mean_absolute_error(y_test, y_sgd))\n",
    "print (mean_absolute_error(y_test, y_lasso))"
   ]
  },
  {
   "cell_type": "raw",
   "metadata": {},
   "source": [
    "3.2 Проанализируйте веса регрессии. Какие выводы можно сделать? Какие признаки внесли наибольший вклад в модель?"
   ]
  },
  {
   "cell_type": "code",
   "execution_count": 35,
   "metadata": {
    "collapsed": false
   },
   "outputs": [
    {
     "name": "stdout",
     "output_type": "stream",
     "text": [
      "Для SGD\n"
     ]
    },
    {
     "data": {
      "text/plain": [
       "[('season', -4.3234852848847876),\n",
       " ('holiday', -1.0843050811632033),\n",
       " ('workingday', -2.4293968261293211),\n",
       " ('weather', -4.5252169769611674),\n",
       " ('temp', 26.995685494849766),\n",
       " ('atemp', 28.04121308663796),\n",
       " ('humidity', -36.070230043883285),\n",
       " ('windspeed', 5.7905526570956951),\n",
       " ('year', 38.583861465040705),\n",
       " ('month', 27.455287803899463),\n",
       " ('day', -0.54867140961178829),\n",
       " ('hour', 53.531557743197425)]"
      ]
     },
     "execution_count": 35,
     "metadata": {},
     "output_type": "execute_result"
    }
   ],
   "source": [
    "print \"Для SGD\"\n",
    "zip(features, sgd.coef_)"
   ]
  },
  {
   "cell_type": "code",
   "execution_count": 36,
   "metadata": {
    "collapsed": false
   },
   "outputs": [
    {
     "name": "stdout",
     "output_type": "stream",
     "text": [
      "для lasso\n"
     ]
    },
    {
     "data": {
      "text/plain": [
       "[('season', 0.0),\n",
       " ('holiday', -0.0),\n",
       " ('workingday', 0.0),\n",
       " ('weather', -3.2029766768859478),\n",
       " ('temp', 23.34974299122478),\n",
       " ('atemp', 28.434981034763496),\n",
       " ('humidity', -37.030895279894622),\n",
       " ('windspeed', 5.0198697629920153),\n",
       " ('year', 40.646049393266736),\n",
       " ('month', 24.960786653527038),\n",
       " ('day', 0.8754214200157896),\n",
       " ('hour', 53.056580355686016)]"
      ]
     },
     "execution_count": 36,
     "metadata": {},
     "output_type": "execute_result"
    }
   ],
   "source": [
    "print \"для lasso\"\n",
    "zip(features, lasso.coef_)\n"
   ]
  },
  {
   "cell_type": "markdown",
   "metadata": {},
   "source": [
    "Наибольший вклад внесли температуры, год, час."
   ]
  },
  {
   "cell_type": "raw",
   "metadata": {},
   "source": [
    "4. Придумайте и сгенерируйте несколько дополнительных признаков на основе существующего набора данных."
   ]
  },
  {
   "cell_type": "code",
   "execution_count": 38,
   "metadata": {
    "collapsed": true
   },
   "outputs": [],
   "source": [
    "data['newfeat_1'] = data['hour'] * data['workingday']\n",
    "data['newfeat_2'] = data['season'] * data['weather']\n",
    "data['newfeat_3'] = data['atemp'] - data['temp'] "
   ]
  },
  {
   "cell_type": "raw",
   "metadata": {},
   "source": [
    "5. Обучите одну из моделей linear_model.SGDRegressor или linear_model.Lasso на получившемся наборе признаков, не забыв предварительно их отмасштабировать. Изменилось ли качество классификации? С какими весами Ваши признаки вошли в модель? Можно ли сделать вывод о том, что от добавления новых признаков качество модели улучшилось?"
   ]
  },
  {
   "cell_type": "code",
   "execution_count": 46,
   "metadata": {
    "collapsed": true
   },
   "outputs": [],
   "source": [
    "features = data.columns.drop([\"count\"]).tolist() "
   ]
  },
  {
   "cell_type": "code",
   "execution_count": 47,
   "metadata": {
    "collapsed": true
   },
   "outputs": [],
   "source": [
    "X = data.drop('count', axis=1) \n",
    "y = data[\"count\"]\n",
    "\n",
    "X_train, X_test, y_train, y_test = train_test_split(X,y,test_size=0.25)\n",
    "X_train = StandardScaler().fit_transform(X_train)\n",
    "X_test = StandardScaler().fit_transform(X_test)"
   ]
  },
  {
   "cell_type": "code",
   "execution_count": 48,
   "metadata": {
    "collapsed": false
   },
   "outputs": [
    {
     "name": "stdout",
     "output_type": "stream",
     "text": [
      "105.549473392\n",
      "106.873066478\n",
      "102.619306341\n",
      "103.677241345\n"
     ]
    }
   ],
   "source": [
    "sgd = SGDRegressor()\n",
    "sgd.fit(X_train, y_train)\n",
    "\n",
    "lasso = Lasso()\n",
    "lasso.fit(X_train, y_train)\n",
    "\n",
    "y_sgd = sgd.predict(X_test)\n",
    "y_lasso = lasso.predict(X_test)\n",
    "\n",
    "print (mean_absolute_error(y_train, sgd.predict(X_train)))\n",
    "print (mean_absolute_error(y_train, lasso.predict(X_train)))\n",
    "print (mean_absolute_error(y_test, y_sgd))\n",
    "print (mean_absolute_error(y_test, y_lasso))"
   ]
  },
  {
   "cell_type": "code",
   "execution_count": 51,
   "metadata": {
    "collapsed": false
   },
   "outputs": [
    {
     "name": "stdout",
     "output_type": "stream",
     "text": [
      "Для sgd \n"
     ]
    },
    {
     "data": {
      "text/plain": [
       "[('season', 8.0015715178122306),\n",
       " ('holiday', 0.86127254425419941),\n",
       " ('workingday', -8.9683564651056855),\n",
       " ('weather', 4.8038253112461033),\n",
       " ('temp', 25.677284647441581),\n",
       " ('atemp', 23.869999764163651),\n",
       " ('humidity', -35.101447214098435),\n",
       " ('windspeed', 4.1478659808552054),\n",
       " ('year', 39.832125137078393),\n",
       " ('month', 25.529803207643685),\n",
       " ('day', 0.78480970075271106),\n",
       " ('hour', 51.480937862136102),\n",
       " ('newfeat_1', 3.5985044904832448),\n",
       " ('newfeat_2', -14.851564950378695),\n",
       " ('newfeat_3', 1.4115175551983221)]"
      ]
     },
     "execution_count": 51,
     "metadata": {},
     "output_type": "execute_result"
    }
   ],
   "source": [
    "print \"Для sgd \"\n",
    "zip(features, sgd.coef_)\n"
   ]
  },
  {
   "cell_type": "code",
   "execution_count": 52,
   "metadata": {
    "collapsed": false
   },
   "outputs": [
    {
     "name": "stdout",
     "output_type": "stream",
     "text": [
      "для lasso \n",
      "\n"
     ]
    },
    {
     "data": {
      "text/plain": [
       "[('season', 0.0),\n",
       " ('holiday', -0.094546541830423381),\n",
       " ('workingday', -0.0),\n",
       " ('weather', -0.0),\n",
       " ('temp', 15.839826213281972),\n",
       " ('atemp', 35.98946008793822),\n",
       " ('humidity', -38.313689441188892),\n",
       " ('windspeed', 4.3641598916916227),\n",
       " ('year', 40.613858433488353),\n",
       " ('month', 27.380331917507629),\n",
       " ('day', 0.0),\n",
       " ('hour', 52.278562266797501),\n",
       " ('newfeat_1', 1.6202981090315989),\n",
       " ('newfeat_2', -4.103794911005366),\n",
       " ('newfeat_3', 0.0)]"
      ]
     },
     "execution_count": 52,
     "metadata": {},
     "output_type": "execute_result"
    }
   ],
   "source": [
    "print \"для lasso \\n\"\n",
    "zip(features, lasso.coef_)"
   ]
  },
  {
   "cell_type": "markdown",
   "metadata": {},
   "source": [
    "Существенных изменнеий вроде нет. Качество не улучшилось(("
   ]
  },
  {
   "cell_type": "raw",
   "metadata": {},
   "source": [
    "6. Теперь давайте по-разному обработаем признаки разного типа. Для того, чтобы удобно работать с набором преобразований данных будем использовать pipeline.Pipeline. Ознакомьтесь с примером ниже: а рамках примера строится piplene из двух шагов: обработка данных и обучение модели. В рамках первого шага сначала обрабатываются бинарные данные (остаются без изменений), а потом -  вещественные признаки (масштабируются). На втором шаге строится модель регрессии."
   ]
  },
  {
   "cell_type": "code",
   "execution_count": 59,
   "metadata": {
    "collapsed": false
   },
   "outputs": [
    {
     "data": {
      "text/plain": [
       "114.15619911171525"
      ]
     },
     "execution_count": 59,
     "metadata": {},
     "output_type": "execute_result"
    }
   ],
   "source": [
    "# Пример:\n",
    "# train_data, train_labels - DataFrame с обучающей выборкой и значения целевой функции на обучении\n",
    "# test_data, test_labels - DataFrame с тестовой выборкой и значения целевой функции на тесте\n",
    "\n",
    "# Создание индекса для бинарных признаков\n",
    "binary_data_columns = ['holiday', 'workingday']\n",
    "binary_data_indices = np.array([(column in binary_data_columns) for column in X_train.columns], dtype = bool)\n",
    "\n",
    "# Создание индекса для вещественных признаков\n",
    "numeric_data_columns = ['temp', 'atemp', 'humidity', 'windspeed', 'season', 'weather']\n",
    "numeric_data_indices = np.array([(column in numeric_data_columns) for column in X_train.columns], dtype = bool)\n",
    "\n",
    "# Создание модели регресии\n",
    "model = linear_model.SGDRegressor(random_state = 0)\n",
    "\n",
    "# Объявление pipline -  цепочки преобразования данных, начиная от обработки данных в зависимости от их типа, и \n",
    "# заканчивая обучением модели. \n",
    "\n",
    "estimator = pipeline.Pipeline(steps = [       \n",
    "    ('feature_processing', pipeline.FeatureUnion(transformer_list = [        \n",
    "            #binary\n",
    "            ('binary_variables_processing', preprocessing.FunctionTransformer(lambda data: data[:, binary_data_indices])), \n",
    "                    \n",
    "            #numeric\n",
    "            ('numeric_variables_processing', pipeline.Pipeline(steps = [\n",
    "                ('selecting', preprocessing.FunctionTransformer(lambda data: data[:, numeric_data_indices])),\n",
    "                ('scaling', preprocessing.StandardScaler())            \n",
    "                        ])),\n",
    "\n",
    "        ])),\n",
    "    ('model_fitting', model)\n",
    "    ]\n",
    ")\n",
    "\n",
    "# С цепочкой можно работать как с одиночным преобразованием, в частности вызывать методы fit и predict \n",
    "estimator.fit(X_train, y_train)\n",
    "metrics.mean_absolute_error(y_test, estimator.predict(X_test))"
   ]
  },
  {
   "cell_type": "raw",
   "metadata": {},
   "source": [
    "7. На основе примера выше постройте pipeline, который обрабатывает 3 типа признаков: бинарные, вещественные (делаем масштабирование) и категориальные (обрабатываем данные с помощью метода One Hot Encoding - preprocessing.OneHotEncoder). Обучите получившуюся цепочку и оцените качество. "
   ]
  },
  {
   "cell_type": "code",
   "execution_count": 60,
   "metadata": {
    "collapsed": false
   },
   "outputs": [
    {
     "data": {
      "text/plain": [
       "76.194914849891816"
      ]
     },
     "execution_count": 60,
     "metadata": {},
     "output_type": "execute_result"
    }
   ],
   "source": [
    "# Создание индекса для бинарных признаков\n",
    "binary_data_columns = ['holiday', 'workingday']\n",
    "binary_data_indices = np.array([(column in binary_data_columns) for column in X_train.columns], dtype = bool)\n",
    "\n",
    "# Создание индекса для вещественных признаков\n",
    "numeric_data_columns = ['temp', 'atemp', 'humidity', 'windspeed']\n",
    "numeric_data_indices = np.array([(column in numeric_data_columns) for column in X_train.columns], dtype = bool)\n",
    "\n",
    "# Создание индекса для категориальных признаков\n",
    "categorical_data_columns = ['year', 'month', 'day', 'hour', 'season', 'weather']\n",
    "categorical_data_indices = np.array([(column in categorical_data_columns) for column in X_train.columns], dtype = bool)\n",
    "\n",
    "# Создание модели регресии\n",
    "model = linear_model.SGDRegressor(random_state = 0)\n",
    "\n",
    "# Объявление pipline -  цепочки преобразования данных, начиная от обработки данных в зависимости от их типа, и \n",
    "# заканчивая обучением модели. \n",
    "\n",
    "estimator = pipeline.Pipeline(steps = [       \n",
    "    ('feature_processing', pipeline.FeatureUnion(transformer_list = [        \n",
    "            #binary\n",
    "            ('binary_variables_processing', preprocessing.FunctionTransformer(lambda data: data[:, binary_data_indices])), \n",
    "                    \n",
    "            #numeric\n",
    "            ('numeric_variables_processing', pipeline.Pipeline(steps = [\n",
    "                ('selecting', preprocessing.FunctionTransformer(lambda data: data[:, numeric_data_indices])),\n",
    "                ('scaling', preprocessing.StandardScaler())            \n",
    "                        ])),\n",
    "            #categorical\n",
    "            ('categorical_variables_processing', pipeline.Pipeline(steps = [\n",
    "                ('selecting', preprocessing.FunctionTransformer(lambda data: data[:, categorical_data_indices])),\n",
    "                ('encoding', preprocessing.OneHotEncoder(handle_unknown='ignore'))\n",
    "                            ]))\n",
    "    \n",
    "\n",
    "        ])),\n",
    "    ('model_fitting', model)\n",
    "    ]\n",
    ")\n",
    "\n",
    "# С цепочкой можно работать как с одиночным преобразованием, в частности вызывать методы fit и predict \n",
    "estimator.fit(X_train, y_train)\n",
    "metrics.mean_absolute_error(y_test, estimator.predict(X_test))"
   ]
  },
  {
   "cell_type": "raw",
   "metadata": {},
   "source": [
    "8. Сделайте выводы: как обработка признаков повлияла на качество модели?"
   ]
  },
  {
   "cell_type": "markdown",
   "metadata": {
    "collapsed": true
   },
   "source": [
    "Качество улучшилось. но не прям \"ВАУ\""
   ]
  },
  {
   "cell_type": "raw",
   "metadata": {},
   "source": [
    "9. Продолжаем работать с pipeline. Подбрети параметры модели с помощью случайного поиска по сетке."
   ]
  },
  {
   "cell_type": "code",
   "execution_count": 66,
   "metadata": {
    "collapsed": false
   },
   "outputs": [
    {
     "data": {
      "text/plain": [
       "GridSearchCV(cv=4, error_score='raise',\n",
       "       estimator=Pipeline(steps=[('feature_processing', FeatureUnion(n_jobs=1,\n",
       "       transformer_list=[('binary_variables_processing', FunctionTransformer(accept_sparse=False,\n",
       "          func=<function <lambda> at 0x1249ed230>, pass_y=False,\n",
       "          validate=True)), ('numeric_variables_processing', Pipeline(steps=[('select...r=5, penalty='l2', power_t=0.25,\n",
       "       random_state=0, shuffle=True, verbose=0, warm_start=False))]),\n",
       "       fit_params={}, iid=True, n_jobs=1,\n",
       "       param_grid={'feature_processing__numeric_variables_processing__scaling__with_mean': [0.0, 0.5], 'model_fitting__penalty': ['l1', 'l2', 'none'], 'model_fitting__n_iter': [3, 5, 10, 50], 'model_fitting__alpha': [0.0001, 0.01], 'model_fitting__loss': ['huber', 'epsilon_insensitive', 'squared_loss']},\n",
       "       pre_dispatch='2*n_jobs', refit=True, scoring='mean_absolute_error',\n",
       "       verbose=0)"
      ]
     },
     "execution_count": 66,
     "metadata": {},
     "output_type": "execute_result"
    }
   ],
   "source": [
    "estimator.get_params().keys()\n",
    "\n",
    "parameters_grid = { \n",
    "    'model_fitting__loss' : ['huber',  'epsilon_insensitive', 'squared_loss', ],\n",
    "    'model_fitting__n_iter' :[3,5,10,50],\n",
    "    'model_fitting__penalty' : ['l1', 'l2', 'none'],\n",
    "    'model_fitting__alpha' : [0.0001, 0.01],\n",
    "    'feature_processing__numeric_variables_processing__scaling__with_mean' : [0., 0.5]\n",
    "}\n",
    "\n",
    "grid_cv = grid_search.GridSearchCV(estimator, parameters_grid, \n",
    "                                   scoring='mean_absolute_error', cv=4)\n",
    "\n",
    "grid_cv.fit(X_train, y_train)"
   ]
  },
  {
   "cell_type": "code",
   "execution_count": 67,
   "metadata": {
    "collapsed": false
   },
   "outputs": [
    {
     "name": "stdout",
     "output_type": "stream",
     "text": [
      "-74.8187410311\n",
      "{'model_fitting__penalty': 'l1', 'model_fitting__alpha': 0.01, 'feature_processing__numeric_variables_processing__scaling__with_mean': 0.0, 'model_fitting__n_iter': 50, 'model_fitting__loss': 'squared_loss'}\n"
     ]
    }
   ],
   "source": [
    "print grid_cv.best_score_\n",
    "print grid_cv.best_params_"
   ]
  },
  {
   "cell_type": "raw",
   "metadata": {},
   "source": [
    "10. Сделайте выводы: как подбор параметров повлиял на качество модели?"
   ]
  },
  {
   "cell_type": "markdown",
   "metadata": {
    "collapsed": true
   },
   "source": [
    "Качество улучшено"
   ]
  },
  {
   "cell_type": "raw",
   "metadata": {},
   "source": [
    "11. Постройте следующий график: отобразите объекты тестовой и обучающей выборок (объекты из обучения и теста должны отображаться разными цветами) в координатах целевая функция/оценка целевой функции с помощью псостроенной модели."
   ]
  },
  {
   "cell_type": "code",
   "execution_count": 71,
   "metadata": {
    "collapsed": false
   },
   "outputs": [
    {
     "data": {
      "text/plain": [
       "<matplotlib.collections.PathCollection at 0x113279090>"
      ]
     },
     "execution_count": 71,
     "metadata": {},
     "output_type": "execute_result"
    },
    {
     "data": {
      "image/png": "[encoded data removed]",
      "text/plain": [
       "<matplotlib.figure.Figure at 0x124cb1cd0>"
      ]
     },
     "metadata": {},
     "output_type": "display_data"
    }
   ],
   "source": [
    "test_pred = grid_cv.best_estimator_.predict(X_test)\n",
    "\n",
    "pylab.figure()\n",
    "pylab.grid(True)\n",
    "pylab.scatter(y_train, grid_cv.best_estimator_.predict(X_train), alpha=0.5, color= '#668cff')\n",
    "pylab.scatter(y_test, grid_cv.best_estimator_.predict(X_test), alpha=0.5, color= '#cc3399')"
   ]
  },
  {
   "cell_type": "raw",
   "metadata": {},
   "source": [
    "12. Какие выводы можно сделать на основе построенного графика? Насколько хорошую модель мы получили?  "
   ]
  },
  {
   "cell_type": "markdown",
   "metadata": {
    "collapsed": true
   },
   "source": [
    "Не очень модель у нас. "
   ]
  },
  {
   "cell_type": "markdown",
   "metadata": {},
   "source": [
    "### Случайный лес"
   ]
  },
  {
   "cell_type": "raw",
   "metadata": {},
   "source": [
    "1. Обучите модель случайный лес (ensemble.RandomForestRegressor) и оцените качество получившейся модели на обучении и на тесте. "
   ]
  },
  {
   "cell_type": "code",
   "execution_count": 73,
   "metadata": {
    "collapsed": false
   },
   "outputs": [
    {
     "data": {
      "text/plain": [
       "35.454371785451876"
      ]
     },
     "execution_count": 73,
     "metadata": {},
     "output_type": "execute_result"
    }
   ],
   "source": [
    "regressor = ensemble.RandomForestRegressor()\n",
    "\n",
    "estimator = pipeline.Pipeline(steps = [       \n",
    "    ('feature_processing', pipeline.FeatureUnion(transformer_list = [        \n",
    "            #binary\n",
    "            ('binary_variables_processing', preprocessing.FunctionTransformer(lambda data: data[:, binary_data_indices])), \n",
    "                    \n",
    "            #numeric\n",
    "            ('numeric_variables_processing', pipeline.Pipeline(steps = [\n",
    "                ('selecting', preprocessing.FunctionTransformer(lambda data: data[:, numeric_data_indices])),\n",
    "                ('scaling', preprocessing.StandardScaler())            \n",
    "                        ])),\n",
    "            #categorical\n",
    "            ('categorical_variables_processing', pipeline.Pipeline(steps = [\n",
    "                ('selecting', preprocessing.FunctionTransformer(lambda data: data[:, categorical_data_indices])),\n",
    "                ('encoding', preprocessing.OneHotEncoder(handle_unknown='ignore'))\n",
    "                            ]))\n",
    "    \n",
    "\n",
    "        ])),\n",
    "    ('model_fitting', regressor)\n",
    "    ]\n",
    ")\n",
    "\n",
    "estimator.fit(X_train, y_train)\n",
    "metrics.mean_absolute_error(y_test, estimator.predict(X_test))"
   ]
  },
  {
   "cell_type": "markdown",
   "metadata": {},
   "source": [
    "Качество в два раза лучше."
   ]
  },
  {
   "cell_type": "raw",
   "metadata": {},
   "source": [
    "2. Проанализируйте важность признаков с помощью метода feature_importances_. Какие признаки оказали наибольший вклад в модель? Соответсвует ли это Вашим предположениям о вкладе признаков?"
   ]
  },
  {
   "cell_type": "code",
   "execution_count": 80,
   "metadata": {
    "collapsed": false
   },
   "outputs": [
    {
     "name": "stdout",
     "output_type": "stream",
     "text": [
      "[ 0.00138302  0.07996783  0.03094994  0.16796829  0.08099546  0.01877753\n",
      "  0.01789465  0.00212704  0.00092819  0.00833275  0.00400776  0.00249861\n",
      "  0.00455805  0.04222059  0.03656984  0.00120872  0.00108691  0.00106201\n",
      "  0.00325345  0.00129041  0.00164294  0.00297878  0.00063997  0.00224285\n",
      "  0.00544414  0.00276162  0.00039112  0.00356612  0.00209242  0.0016141\n",
      "  0.00184626  0.00112902  0.00346989  0.00166589  0.00113642  0.00111253\n",
      "  0.00260368  0.00217915  0.00155096  0.00164266  0.00162479  0.00162063\n",
      "  0.00178559  0.00095846  0.00135264  0.00077522  0.01165343  0.0122133\n",
      "  0.01437845  0.01185679  0.0147562   0.0137374   0.00640733  0.00994041\n",
      "  0.04536266  0.00840438  0.00357035  0.0028015   0.00322426  0.00515998\n",
      "  0.00250445  0.00723746  0.02155435  0.11428752  0.08395085  0.026047\n",
      "  0.00785887  0.00364246  0.00512507  0.00741661]\n",
      "Feature ranking:\n",
      "1. feature 3 (0.167968)\n",
      "2. feature 63 (0.114288)\n",
      "3. feature 64 (0.083951)\n",
      "4. feature 4 (0.080995)\n",
      "5. feature 1 (0.079968)\n",
      "6. feature 54 (0.045363)\n",
      "7. feature 13 (0.042221)\n",
      "8. feature 14 (0.036570)\n",
      "9. feature 2 (0.030950)\n",
      "10. feature 65 (0.026047)\n",
      "11. feature 62 (0.021554)\n",
      "12. feature 5 (0.018778)\n"
     ]
    }
   ],
   "source": [
    "importances = regressor.feature_importances_\n",
    "print(importances)\n",
    "std = np.std([tree.feature_importances_ for tree in regressor.estimators_],\n",
    "             axis=0)\n",
    "indices = np.argsort(importances)[::-1]\n",
    "\n",
    "# Print the feature ranking\n",
    "print(\"Feature ranking:\")\n",
    "\n",
    "for f in range(X.shape[1]):\n",
    "    print(\"%d. feature %d (%f)\" % (f + 1, indices[f], importances[indices[f]]))"
   ]
  },
  {
   "cell_type": "raw",
   "metadata": {},
   "source": [
    "3. Постройте следующий график: отобразите объекты тестовой и обучающей выборок (объекты из обучения и теста должны отображаться разными цветами) в координатах целевая функция/оценка целевой функции с помощью псостроенной модели. "
   ]
  },
  {
   "cell_type": "code",
   "execution_count": 82,
   "metadata": {
    "collapsed": false
   },
   "outputs": [
    {
     "data": {
      "text/plain": [
       "<matplotlib.collections.PathCollection at 0x114c07750>"
      ]
     },
     "execution_count": 82,
     "metadata": {},
     "output_type": "execute_result"
    },
    {
     "data": {
      "image/png": "[encoded data removed]",
      "text/plain": [
       "<matplotlib.figure.Figure at 0x113345bd0>"
      ]
     },
     "metadata": {},
     "output_type": "display_data"
    }
   ],
   "source": [
    "test_pred = grid_cv.best_estimator_.predict(X_test)\n",
    "\n",
    "pylab.figure()\n",
    "pylab.grid(True)\n",
    "pylab.scatter(y_train, estimator.predict(X_train), alpha=0.5, color= '#668cff')\n",
    "pylab.scatter(y_test, estimator.predict(X_test), alpha=0.5, color= '#cc3399')"
   ]
  },
  {
   "cell_type": "raw",
   "metadata": {},
   "source": [
    "4. Сравните график, полученный на предыдущем шаге с соответсвующим графиком для линейной модели. Какие выводы можно сделать?"
   ]
  },
  {
   "cell_type": "markdown",
   "metadata": {
    "collapsed": true
   },
   "source": [
    "Уже симпатичнее, похоже на диагональ."
   ]
  },
  {
   "cell_type": "markdown",
   "metadata": {},
   "source": [
    "### Опциональная часть"
   ]
  },
  {
   "cell_type": "markdown",
   "metadata": {},
   "source": [
    "Попробуйте улучшить результат, полученный на предыдущих шагах. В этом разделе можно и нужно пользоваться любыми изученными алгоритмами, инструментами и всем, чем вам захочется."
   ]
  },
  {
   "cell_type": "code",
   "execution_count": null,
   "metadata": {
    "collapsed": true
   },
   "outputs": [],
   "source": []
  },
  {
   "cell_type": "markdown",
   "metadata": {},
   "source": [
    "### Заключение"
   ]
  },
  {
   "cell_type": "markdown",
   "metadata": {},
   "source": [
    "В этом разделе Вы можете написать, какие выводы Вы сделали в процессе работы над заданием, понравилось ли оно Вам, а также всё, что Вы о задании думаете =)"
   ]
  },
  {
   "cell_type": "code",
   "execution_count": null,
   "metadata": {
    "collapsed": true
   },
   "outputs": [],
   "source": []
  }
 ],
 "metadata": {
  "kernelspec": {
   "display_name": "Python 2",
   "language": "python",
   "name": "python2"
  },
  "language_info": {
   "codemirror_mode": {
    "name": "ipython",
    "version": 2
   },
   "file_extension": ".py",
   "mimetype": "text/x-python",
   "name": "python",
   "nbconvert_exporter": "python",
   "pygments_lexer": "ipython2",
   "version": "2.7.11"
  }
 },
 "nbformat": 4,
 "nbformat_minor": 0
}
